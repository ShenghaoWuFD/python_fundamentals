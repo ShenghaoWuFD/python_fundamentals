{
 "cells": [
  {
   "cell_type": "markdown",
   "metadata": {},
   "source": [
    "# 0. Overview\n",
    "\n",
    "### Data\n",
    "\n",
    "We will be analyzing an extract of 1994 U.S. Census data. See more on the data set [here](https://archive.ics.uci.edu/ml/datasets/census+income). First, we are going to need some help from some well-known, third-party libraries"
   ]
  },
  {
   "cell_type": "markdown",
   "metadata": {},
   "source": [
    "### Goals\n",
    "\n",
    "Work through the given data - cleaning it, exploring it, transforming it - so as to come to a point where we can build a model to predict whether or not a given citizen, based on the other available information, earns over $50K per year. Additionally, we will dive into learning the proper protocols for setting up for tuning, and evaluating, our predictive models. "
   ]
  },
  {
   "cell_type": "markdown",
   "metadata": {},
   "source": [
    "### Third-party libraries\n",
    "\n",
    "Third-party libraries are libraries (collections of code) that do not come with the core Python distribution. You can get these libraries through downloading the Anaconda distribution, which includes them all, or through installing them manually with `pip` (or `pip3`, depending on your system), which is the Python package manager.\n",
    "\n",
    "When importing a Python library, you can give it an alias, which is usually done to make something easier to type. It's good to follow standard protocol for a given library when doing this so that other people will recognize it throughout your code. \n",
    "\n",
    "`numpy` (typically abbreviated as `np`) provides the following:\n",
    "- a homogenous (read: for a single data type) array with very useful manipulation methods\n",
    "- a number of useful advanced math functions\n",
    "- other data type helpers\n",
    "- in many ways `numpy` is a collection of Python wrappers for very well-optimized C and FORTRAN math code\n",
    "\n",
    "`pandas` (typically abbreviated as `pd`) is:\n",
    "- a library that provides, amongst other things, a very nice data structure known as the `DataFrame`\n",
    "- the `DataFrame` is a relational / tabular data structure\n",
    "- i.e. it allows you to do SQL-ish analysis in Python\n",
    "- it also visualizes nicely in Jupyter notebooks\n",
    "- a good bit of Pandas is actually just user-friendly interfaces on top of `numpy`\n",
    "\n",
    "`matplotlib` (from which the `pyplot` submodule is typically imported and aliased as `plt`)\n",
    "- the old faithful data visualization library for Python\n",
    "- it definitely provides a steep learning curve\n",
    "- but it's a powerful tool once learned\n",
    "\n",
    "I've also imported `indoorplants`, a library I've written to help me in my analysis workflows. You are welcome to check out, and _use_ the code, which you can find [here](https://github.com/lermana/indoorplants). Editor's note: this library is still being developed ... in other words, your mileage may vary. If you would like to make use of my code in the seminar, you should click the aforermentioned link, and go ahead and `git clone` that repo, and then follow the brief installation instructions there. Otherwise, you can simply comment out the lines that mention that repo with a `#` (there aren't that many)."
   ]
  },
  {
   "cell_type": "code",
   "execution_count": 2,
   "metadata": {
    "scrolled": true
   },
   "outputs": [],
   "source": [
    "import requests\n",
    "import numpy as np\n",
    "import pandas as pd\n",
    "import matplotlib.pyplot as plt\n",
    "from sklearn.feature_selection import RFE, chi2\n",
    "from sklearn.model_selection import train_test_split, cross_val_score, cross_validate, GridSearchCV\n",
    "from sklearn.ensemble import RandomForestClassifier\n",
    "from sklearn.metrics import accuracy_score, confusion_matrix, precision_score, recall_score, make_scorer\n",
    "\n",
    "from indoorplants.analysis import exploratory, wrangle\n",
    "from indoorplants.validation import crossvalidate, curves"
   ]
  },
  {
   "cell_type": "markdown",
   "metadata": {},
   "source": [
    "### Taking notes in a `jupyter notebook`\n",
    "\n",
    "The ability to intertermix well-formatted notes with your code and charts is one of the strongest features that `jupyer` offers its users. You can write notes with [markdown syntax](https://github.com/adam-p/markdown-here/wiki/Markdown-Cheatsheet). Below is a an example markdown cell, which you can `enter` into to see how its formatting is created: "
   ]
  },
  {
   "cell_type": "markdown",
   "metadata": {},
   "source": [
    "**Example note taking**:\n",
    "> Here is a *quote* \n",
    "\n",
    "We can write `code`, too:\n",
    "```\n",
    "def fake_func():\n",
    "    return None\n",
    "```\n",
    "\n",
    "You can write math, too:\n",
    "> $\\sum n$\n",
    "\n",
    "Here's a [link](https://github.com/adam-p/markdown-here/wiki/Markdown-Cheatsheet) to more examples."
   ]
  },
  {
   "cell_type": "markdown",
   "metadata": {},
   "source": [
    "### Plots"
   ]
  },
  {
   "cell_type": "code",
   "execution_count": 3,
   "metadata": {},
   "outputs": [],
   "source": [
    "%matplotlib inline"
   ]
  },
  {
   "cell_type": "markdown",
   "metadata": {},
   "source": [
    "The above is a _magic_ Jupyter command that ensures all `matplotlib` plots will by default show in the notebook."
   ]
  },
  {
   "cell_type": "markdown",
   "metadata": {},
   "source": [
    "# 1. Get Data"
   ]
  },
  {
   "cell_type": "markdown",
   "metadata": {},
   "source": [
    "### Retrieve and quick look"
   ]
  },
  {
   "cell_type": "code",
   "execution_count": 4,
   "metadata": {},
   "outputs": [],
   "source": [
    "def get_census_data():\n",
    "    # column names\n",
    "    cols = ['age', 'workclass', 'fnlwgt', 'education', \n",
    "            'education_num', 'marital_status', 'occupation',\n",
    "            'relationship', 'race', 'sex', 'capital_gain',\n",
    "            'capital_loss', 'hours_per_week', 'native_country', \n",
    "            'over_fifty_k']\n",
    "    \n",
    "    # url to retrieve data from\n",
    "    url = 'https://archive.ics.uci.edu/ml/machine-learning-databases/adult/adult.data'\n",
    "    \n",
    "    # iterate through lines of data stream, decoding and splitting each line on commas\n",
    "    with requests.get(url, stream=True) as r:\n",
    "        results = [l.decode().split(',') for l in r.iter_lines()]\n",
    "    \n",
    "    # convert data from of list of lists to DataFrame, set columns, and return\n",
    "    return pd.DataFrame(results, columns=cols)"
   ]
  },
  {
   "cell_type": "markdown",
   "metadata": {},
   "source": [
    "Let's use the above function to retrieve our data:"
   ]
  },
  {
   "cell_type": "code",
   "execution_count": 5,
   "metadata": {},
   "outputs": [],
   "source": [
    "table = get_census_data()"
   ]
  },
  {
   "cell_type": "markdown",
   "metadata": {},
   "source": [
    "A great first step is to check out the size of your data:"
   ]
  },
  {
   "cell_type": "code",
   "execution_count": 6,
   "metadata": {},
   "outputs": [
    {
     "data": {
      "text/plain": [
       "(32562, 15)"
      ]
     },
     "execution_count": 6,
     "metadata": {},
     "output_type": "execute_result"
    }
   ],
   "source": [
    "table.shape"
   ]
  },
  {
   "cell_type": "markdown",
   "metadata": {},
   "source": [
    "Next, let's look at data types. We can call the `dtypes` attribute on our `DataFrame` to see the data type for each of its columns. We'll then pass those results into the `value_counts` method, which returns all the values in the column it's called on, with the number of times that each value shows up in the column:"
   ]
  },
  {
   "cell_type": "code",
   "execution_count": 7,
   "metadata": {},
   "outputs": [
    {
     "data": {
      "text/plain": [
       "object    15\n",
       "dtype: int64"
      ]
     },
     "execution_count": 7,
     "metadata": {},
     "output_type": "execute_result"
    }
   ],
   "source": [
    "table.dtypes.value_counts()"
   ]
  },
  {
   "cell_type": "markdown",
   "metadata": {},
   "source": [
    "All data columns are currently formatted as _strings_ (which `pandas` represents with the `object` type), which we will have to handle accordingly. \n",
    "\n",
    "Let's actually _look_ quickly at the top and bottom of the table. We can do this through using `iloc`, which takes the _integer location_ of rows and columns to return:"
   ]
  },
  {
   "cell_type": "code",
   "execution_count": 8,
   "metadata": {},
   "outputs": [
    {
     "data": {
      "text/html": [
       "<div>\n",
       "<style scoped>\n",
       "    .dataframe tbody tr th:only-of-type {\n",
       "        vertical-align: middle;\n",
       "    }\n",
       "\n",
       "    .dataframe tbody tr th {\n",
       "        vertical-align: top;\n",
       "    }\n",
       "\n",
       "    .dataframe thead th {\n",
       "        text-align: right;\n",
       "    }\n",
       "</style>\n",
       "<table border=\"1\" class=\"dataframe\">\n",
       "  <thead>\n",
       "    <tr style=\"text-align: right;\">\n",
       "      <th></th>\n",
       "      <th>age</th>\n",
       "      <th>workclass</th>\n",
       "      <th>fnlwgt</th>\n",
       "      <th>education</th>\n",
       "      <th>education_num</th>\n",
       "      <th>marital_status</th>\n",
       "      <th>occupation</th>\n",
       "    </tr>\n",
       "  </thead>\n",
       "  <tbody>\n",
       "    <tr>\n",
       "      <th>0</th>\n",
       "      <td>39</td>\n",
       "      <td>State-gov</td>\n",
       "      <td>77516</td>\n",
       "      <td>Bachelors</td>\n",
       "      <td>13</td>\n",
       "      <td>Never-married</td>\n",
       "      <td>Adm-clerical</td>\n",
       "    </tr>\n",
       "    <tr>\n",
       "      <th>1</th>\n",
       "      <td>50</td>\n",
       "      <td>Self-emp-not-inc</td>\n",
       "      <td>83311</td>\n",
       "      <td>Bachelors</td>\n",
       "      <td>13</td>\n",
       "      <td>Married-civ-spouse</td>\n",
       "      <td>Exec-managerial</td>\n",
       "    </tr>\n",
       "    <tr>\n",
       "      <th>2</th>\n",
       "      <td>38</td>\n",
       "      <td>Private</td>\n",
       "      <td>215646</td>\n",
       "      <td>HS-grad</td>\n",
       "      <td>9</td>\n",
       "      <td>Divorced</td>\n",
       "      <td>Handlers-cleaners</td>\n",
       "    </tr>\n",
       "    <tr>\n",
       "      <th>3</th>\n",
       "      <td>53</td>\n",
       "      <td>Private</td>\n",
       "      <td>234721</td>\n",
       "      <td>11th</td>\n",
       "      <td>7</td>\n",
       "      <td>Married-civ-spouse</td>\n",
       "      <td>Handlers-cleaners</td>\n",
       "    </tr>\n",
       "    <tr>\n",
       "      <th>4</th>\n",
       "      <td>28</td>\n",
       "      <td>Private</td>\n",
       "      <td>338409</td>\n",
       "      <td>Bachelors</td>\n",
       "      <td>13</td>\n",
       "      <td>Married-civ-spouse</td>\n",
       "      <td>Prof-specialty</td>\n",
       "    </tr>\n",
       "  </tbody>\n",
       "</table>\n",
       "</div>"
      ],
      "text/plain": [
       "  age          workclass   fnlwgt   education education_num  \\\n",
       "0  39          State-gov    77516   Bachelors            13   \n",
       "1  50   Self-emp-not-inc    83311   Bachelors            13   \n",
       "2  38            Private   215646     HS-grad             9   \n",
       "3  53            Private   234721        11th             7   \n",
       "4  28            Private   338409   Bachelors            13   \n",
       "\n",
       "        marital_status          occupation  \n",
       "0        Never-married        Adm-clerical  \n",
       "1   Married-civ-spouse     Exec-managerial  \n",
       "2             Divorced   Handlers-cleaners  \n",
       "3   Married-civ-spouse   Handlers-cleaners  \n",
       "4   Married-civ-spouse      Prof-specialty  "
      ]
     },
     "execution_count": 8,
     "metadata": {},
     "output_type": "execute_result"
    }
   ],
   "source": [
    "table.iloc[:5, :7]"
   ]
  },
  {
   "cell_type": "code",
   "execution_count": 9,
   "metadata": {},
   "outputs": [
    {
     "data": {
      "text/html": [
       "<div>\n",
       "<style scoped>\n",
       "    .dataframe tbody tr th:only-of-type {\n",
       "        vertical-align: middle;\n",
       "    }\n",
       "\n",
       "    .dataframe tbody tr th {\n",
       "        vertical-align: top;\n",
       "    }\n",
       "\n",
       "    .dataframe thead th {\n",
       "        text-align: right;\n",
       "    }\n",
       "</style>\n",
       "<table border=\"1\" class=\"dataframe\">\n",
       "  <thead>\n",
       "    <tr style=\"text-align: right;\">\n",
       "      <th></th>\n",
       "      <th>race</th>\n",
       "      <th>sex</th>\n",
       "      <th>capital_gain</th>\n",
       "      <th>capital_loss</th>\n",
       "      <th>hours_per_week</th>\n",
       "      <th>native_country</th>\n",
       "      <th>over_fifty_k</th>\n",
       "    </tr>\n",
       "  </thead>\n",
       "  <tbody>\n",
       "    <tr>\n",
       "      <th>32557</th>\n",
       "      <td>White</td>\n",
       "      <td>Male</td>\n",
       "      <td>0</td>\n",
       "      <td>0</td>\n",
       "      <td>40</td>\n",
       "      <td>United-States</td>\n",
       "      <td>&gt;50K</td>\n",
       "    </tr>\n",
       "    <tr>\n",
       "      <th>32558</th>\n",
       "      <td>White</td>\n",
       "      <td>Female</td>\n",
       "      <td>0</td>\n",
       "      <td>0</td>\n",
       "      <td>40</td>\n",
       "      <td>United-States</td>\n",
       "      <td>&lt;=50K</td>\n",
       "    </tr>\n",
       "    <tr>\n",
       "      <th>32559</th>\n",
       "      <td>White</td>\n",
       "      <td>Male</td>\n",
       "      <td>0</td>\n",
       "      <td>0</td>\n",
       "      <td>20</td>\n",
       "      <td>United-States</td>\n",
       "      <td>&lt;=50K</td>\n",
       "    </tr>\n",
       "    <tr>\n",
       "      <th>32560</th>\n",
       "      <td>White</td>\n",
       "      <td>Female</td>\n",
       "      <td>15024</td>\n",
       "      <td>0</td>\n",
       "      <td>40</td>\n",
       "      <td>United-States</td>\n",
       "      <td>&gt;50K</td>\n",
       "    </tr>\n",
       "    <tr>\n",
       "      <th>32561</th>\n",
       "      <td>None</td>\n",
       "      <td>None</td>\n",
       "      <td>None</td>\n",
       "      <td>None</td>\n",
       "      <td>None</td>\n",
       "      <td>None</td>\n",
       "      <td>None</td>\n",
       "    </tr>\n",
       "  </tbody>\n",
       "</table>\n",
       "</div>"
      ],
      "text/plain": [
       "         race      sex capital_gain capital_loss hours_per_week  \\\n",
       "32557   White     Male            0            0             40   \n",
       "32558   White   Female            0            0             40   \n",
       "32559   White     Male            0            0             20   \n",
       "32560   White   Female        15024            0             40   \n",
       "32561    None     None         None         None           None   \n",
       "\n",
       "       native_country over_fifty_k  \n",
       "32557   United-States         >50K  \n",
       "32558   United-States        <=50K  \n",
       "32559   United-States        <=50K  \n",
       "32560   United-States         >50K  \n",
       "32561            None         None  "
      ]
     },
     "execution_count": 9,
     "metadata": {},
     "output_type": "execute_result"
    }
   ],
   "source": [
    "table.iloc[-5:, 8:]"
   ]
  },
  {
   "cell_type": "markdown",
   "metadata": {},
   "source": [
    "### Data cleanliness\n",
    "\n",
    "Let's check for missing values:"
   ]
  },
  {
   "cell_type": "code",
   "execution_count": 10,
   "metadata": {},
   "outputs": [
    {
     "data": {
      "text/plain": [
       "age               0\n",
       "workclass         1\n",
       "fnlwgt            1\n",
       "education         1\n",
       "education_num     1\n",
       "marital_status    1\n",
       "occupation        1\n",
       "relationship      1\n",
       "race              1\n",
       "sex               1\n",
       "capital_gain      1\n",
       "capital_loss      1\n",
       "hours_per_week    1\n",
       "native_country    1\n",
       "over_fifty_k      1\n",
       "dtype: int64"
      ]
     },
     "execution_count": 10,
     "metadata": {},
     "output_type": "execute_result"
    }
   ],
   "source": [
    "table.isnull().sum()"
   ]
  },
  {
   "cell_type": "markdown",
   "metadata": {},
   "source": [
    "`isnull()` is a method that returns `True` for every row in `data` that is `null`, in each of the columns. We can then call `sum` on the results to see the total number of `null` values in each column.\n",
    "\n",
    "We see that we have 1 missing value each, for every column except for `age` - let's see if these all these values are in the same row:"
   ]
  },
  {
   "cell_type": "code",
   "execution_count": 11,
   "metadata": {},
   "outputs": [
    {
     "data": {
      "text/plain": [
       "Int64Index([32561], dtype='int64')"
      ]
     },
     "execution_count": 11,
     "metadata": {},
     "output_type": "execute_result"
    }
   ],
   "source": [
    "table[table.isnull().any(1)].index"
   ]
  },
  {
   "cell_type": "markdown",
   "metadata": {},
   "source": [
    "One of the ways in which we can filter a `DataFrame` is to pass a condition into it using square brackets.The square bracket syntax works such that it will then return the rows in the `DataFrame` that have a value of `True`. So, `isnull` returns a whole collection of `True` or `False` values for each position in the index, and the square bracket syntax then returns the rest of the row for each `True` index value. \n",
    "\n",
    "All missing values are in the row _labeled_ `32561`. Before we delete this row, let's see if the `age` column has any useful information in this row:"
   ]
  },
  {
   "cell_type": "code",
   "execution_count": 12,
   "metadata": {},
   "outputs": [
    {
     "data": {
      "text/plain": [
       "''"
      ]
     },
     "execution_count": 12,
     "metadata": {},
     "output_type": "execute_result"
    }
   ],
   "source": [
    "table.loc[32561, \"age\"]"
   ]
  },
  {
   "cell_type": "markdown",
   "metadata": {},
   "source": [
    "Nothing - so let's drop. Note that dropping missing data is, generally speaking a bad idea. In this case, we have exactly _one_ out of over 30K+ rows that's missing, so, fine to just drop it. See more on the subject [here](http://www.stat.columbia.edu/~gelman/arm/missing.pdf)."
   ]
  },
  {
   "cell_type": "code",
   "execution_count": 13,
   "metadata": {},
   "outputs": [],
   "source": [
    "table = table.drop(32561)"
   ]
  },
  {
   "cell_type": "markdown",
   "metadata": {},
   "source": [
    "Now, let's check for duplicates:"
   ]
  },
  {
   "cell_type": "code",
   "execution_count": 14,
   "metadata": {},
   "outputs": [
    {
     "data": {
      "text/plain": [
       "24"
      ]
     },
     "execution_count": 14,
     "metadata": {},
     "output_type": "execute_result"
    }
   ],
   "source": [
    "table.duplicated().sum()"
   ]
  },
  {
   "cell_type": "markdown",
   "metadata": {},
   "source": [
    "The `duplicated` method works similarly to `isnull`, in that it returns a _boolean mask_. By default, it will return `True` for a row that has _already_ been seen. You can control whether it treats the _first_ or _last_ instance of a row as a duplicate, or you can also count _all_ instances of a given row (that appears more than once) as duplicates. This behavior is controlled through the `keep` _keyword argument_. \n",
    "\n",
    "Let's write _all_ duplicates to file before we drop them. We can do this using the `to_csv` method, which takes (in addition to other optional parameters that control things like the delimiter used) a _path_ to write the file to:"
   ]
  },
  {
   "cell_type": "code",
   "execution_count": 15,
   "metadata": {},
   "outputs": [],
   "source": [
    "table[table.duplicated(keep=False)].to_csv(\"duplicates.csv\")"
   ]
  },
  {
   "cell_type": "markdown",
   "metadata": {},
   "source": [
    "### Data type handling - _numeric_\n",
    "\n",
    "Let's get this data typed properly. We may have to manually make these changes using the `astype` method, but let's see what the `infer_objects` method can do for us:"
   ]
  },
  {
   "cell_type": "code",
   "execution_count": 16,
   "metadata": {},
   "outputs": [
    {
     "data": {
      "text/plain": [
       "age               object\n",
       "workclass         object\n",
       "fnlwgt            object\n",
       "education         object\n",
       "education_num     object\n",
       "marital_status    object\n",
       "occupation        object\n",
       "relationship      object\n",
       "race              object\n",
       "sex               object\n",
       "capital_gain      object\n",
       "capital_loss      object\n",
       "hours_per_week    object\n",
       "native_country    object\n",
       "over_fifty_k      object\n",
       "dtype: object"
      ]
     },
     "execution_count": 16,
     "metadata": {},
     "output_type": "execute_result"
    }
   ],
   "source": [
    "table.infer_objects().dtypes"
   ]
  },
  {
   "cell_type": "markdown",
   "metadata": {},
   "source": [
    "Ok .... nothing. We'll try this manually.\n",
    "\n",
    "We know that most of these columns contain _categorical_, or _non-numeric_ data, but a few of these are numeric. Let's take a closer look. \n",
    "\n",
    "Note that we can pass multiple columns to a `DataFrame` through the use of double brackets. Also note that we can use the `head` method to return the first five rows across all columns:"
   ]
  },
  {
   "cell_type": "code",
   "execution_count": 17,
   "metadata": {},
   "outputs": [
    {
     "data": {
      "text/html": [
       "<div>\n",
       "<style scoped>\n",
       "    .dataframe tbody tr th:only-of-type {\n",
       "        vertical-align: middle;\n",
       "    }\n",
       "\n",
       "    .dataframe tbody tr th {\n",
       "        vertical-align: top;\n",
       "    }\n",
       "\n",
       "    .dataframe thead th {\n",
       "        text-align: right;\n",
       "    }\n",
       "</style>\n",
       "<table border=\"1\" class=\"dataframe\">\n",
       "  <thead>\n",
       "    <tr style=\"text-align: right;\">\n",
       "      <th></th>\n",
       "      <th>age</th>\n",
       "      <th>fnlwgt</th>\n",
       "      <th>education_num</th>\n",
       "      <th>capital_gain</th>\n",
       "      <th>capital_loss</th>\n",
       "      <th>hours_per_week</th>\n",
       "    </tr>\n",
       "  </thead>\n",
       "  <tbody>\n",
       "    <tr>\n",
       "      <th>0</th>\n",
       "      <td>39</td>\n",
       "      <td>77516</td>\n",
       "      <td>13</td>\n",
       "      <td>2174</td>\n",
       "      <td>0</td>\n",
       "      <td>40</td>\n",
       "    </tr>\n",
       "    <tr>\n",
       "      <th>1</th>\n",
       "      <td>50</td>\n",
       "      <td>83311</td>\n",
       "      <td>13</td>\n",
       "      <td>0</td>\n",
       "      <td>0</td>\n",
       "      <td>13</td>\n",
       "    </tr>\n",
       "    <tr>\n",
       "      <th>2</th>\n",
       "      <td>38</td>\n",
       "      <td>215646</td>\n",
       "      <td>9</td>\n",
       "      <td>0</td>\n",
       "      <td>0</td>\n",
       "      <td>40</td>\n",
       "    </tr>\n",
       "    <tr>\n",
       "      <th>3</th>\n",
       "      <td>53</td>\n",
       "      <td>234721</td>\n",
       "      <td>7</td>\n",
       "      <td>0</td>\n",
       "      <td>0</td>\n",
       "      <td>40</td>\n",
       "    </tr>\n",
       "    <tr>\n",
       "      <th>4</th>\n",
       "      <td>28</td>\n",
       "      <td>338409</td>\n",
       "      <td>13</td>\n",
       "      <td>0</td>\n",
       "      <td>0</td>\n",
       "      <td>40</td>\n",
       "    </tr>\n",
       "  </tbody>\n",
       "</table>\n",
       "</div>"
      ],
      "text/plain": [
       "  age   fnlwgt education_num capital_gain capital_loss hours_per_week\n",
       "0  39    77516            13         2174            0             40\n",
       "1  50    83311            13            0            0             13\n",
       "2  38   215646             9            0            0             40\n",
       "3  53   234721             7            0            0             40\n",
       "4  28   338409            13            0            0             40"
      ]
     },
     "execution_count": 17,
     "metadata": {},
     "output_type": "execute_result"
    }
   ],
   "source": [
    "table[[\"age\", \"fnlwgt\", \"education_num\", \"capital_gain\", \"capital_loss\", \"hours_per_week\"]].head()"
   ]
  },
  {
   "cell_type": "markdown",
   "metadata": {},
   "source": [
    "Let's save these columns for future use:"
   ]
  },
  {
   "cell_type": "code",
   "execution_count": 18,
   "metadata": {},
   "outputs": [],
   "source": [
    "numeric_cols = [\"age\", \"fnlwgt\", \"education_num\", \"capital_gain\", \"capital_loss\", \"hours_per_week\"]"
   ]
  },
  {
   "cell_type": "markdown",
   "metadata": {},
   "source": [
    "It would be good to know whether we have _integer_ or _real_ number data in these numeric columns. How about we see if any of these columns _contain_ a `.`? `pandas` provides classic, Python string functionality to be applied to a `Series` of `object` type through accessing the `str` attribute, which we can make use of here.\n",
    "\n",
    "A `Series` is a single column of a `DataFrame`. While there is _a lot_ of overlap between `DataFrame` and `Series` functionality, there are some differences, and we are seeing one here - the `str` attribute exists only at the column level; i.e. it doesn't exist across more than one column at a time, if that makes sense.\n",
    "\n",
    "Let's start by checking our first numeric column to see whether there is a `.` in any of its values:"
   ]
  },
  {
   "cell_type": "code",
   "execution_count": 19,
   "metadata": {
    "scrolled": true
   },
   "outputs": [
    {
     "data": {
      "text/plain": [
       "0"
      ]
     },
     "execution_count": 19,
     "metadata": {},
     "output_type": "execute_result"
    }
   ],
   "source": [
    "table[numeric_cols[0]].str.contains(\"\\.\").sum()"
   ]
  },
  {
   "cell_type": "markdown",
   "metadata": {},
   "source": [
    "A couple of things to note here:\n",
    "- you cannot use `table.column`, and must use `table[column]`, when accessing a `DataFrame` column via a variable name\n",
    "- you must _escape_ `.` with a backslash (othwerise it will be treated as a _regex_ pattern)"
   ]
  },
  {
   "cell_type": "markdown",
   "metadata": {},
   "source": [
    "### Problem\n",
    "\n",
    "Check this across _all_ of our `numeric_cols`, through leveraging _iteration_. Bonus points if you can write this check as a one-liner."
   ]
  },
  {
   "cell_type": "code",
   "execution_count": 20,
   "metadata": {},
   "outputs": [
    {
     "data": {
      "text/plain": [
       "[('age', 0),\n",
       " ('fnlwgt', 0),\n",
       " ('education_num', 0),\n",
       " ('capital_gain', 0),\n",
       " ('capital_loss', 0),\n",
       " ('hours_per_week', 0)]"
      ]
     },
     "execution_count": 20,
     "metadata": {},
     "output_type": "execute_result"
    }
   ],
   "source": [
    "[(col, table[col].str.contains(\"\\.\").sum()) for col in numeric_cols]"
   ]
  },
  {
   "cell_type": "code",
   "execution_count": 21,
   "metadata": {},
   "outputs": [],
   "source": [
    "table[numeric_cols] = table[numeric_cols].astype(int)"
   ]
  },
  {
   "cell_type": "markdown",
   "metadata": {},
   "source": [
    "Also, please note that if you try to convert a string of a decimal-numbered nature to an `int`, you'll likely get an error. I thought this was a fun exercise, though!"
   ]
  },
  {
   "cell_type": "code",
   "execution_count": 22,
   "metadata": {},
   "outputs": [],
   "source": [
    "# int(\"4.5\")"
   ]
  },
  {
   "cell_type": "markdown",
   "metadata": {},
   "source": [
    "### Data type handling - _boolean_\n",
    "\n",
    "Let's take a closer look at what we're trying to predict - `over_fifty_k`:"
   ]
  },
  {
   "cell_type": "code",
   "execution_count": 23,
   "metadata": {},
   "outputs": [
    {
     "data": {
      "text/plain": [
       "0     <=50K\n",
       "1     <=50K\n",
       "2     <=50K\n",
       "3     <=50K\n",
       "4     <=50K\n",
       "Name: over_fifty_k, dtype: object"
      ]
     },
     "execution_count": 23,
     "metadata": {},
     "output_type": "execute_result"
    }
   ],
   "source": [
    "table.over_fifty_k.head()"
   ]
  },
  {
   "cell_type": "markdown",
   "metadata": {},
   "source": [
    "This doesn't look very nice, does it?"
   ]
  },
  {
   "cell_type": "code",
   "execution_count": 24,
   "metadata": {},
   "outputs": [
    {
     "data": {
      "text/plain": [
       " <=50K    24720\n",
       " >50K      7841\n",
       "Name: over_fifty_k, dtype: int64"
      ]
     },
     "execution_count": 24,
     "metadata": {},
     "output_type": "execute_result"
    }
   ],
   "source": [
    "table.over_fifty_k.value_counts()"
   ]
  },
  {
   "cell_type": "markdown",
   "metadata": {},
   "source": [
    "So, this is really a `bool` variable, but we currently have it represented via this _ugly_ string. Let's fix that."
   ]
  },
  {
   "cell_type": "markdown",
   "metadata": {},
   "source": [
    "### Problem\n",
    "\n",
    "Reingineer this as a `bool` column."
   ]
  },
  {
   "cell_type": "code",
   "execution_count": 25,
   "metadata": {
    "scrolled": true
   },
   "outputs": [
    {
     "data": {
      "text/plain": [
       " <=50K    24720\n",
       " >50K      7841\n",
       "Name: over_fifty_k, dtype: int64"
      ]
     },
     "execution_count": 25,
     "metadata": {},
     "output_type": "execute_result"
    }
   ],
   "source": [
    "table.over_fifty_k.value_counts()"
   ]
  },
  {
   "cell_type": "markdown",
   "metadata": {},
   "source": [
    "Here, we can make use of the `apply` method, which comes in handy when you want to run some functionality on a `DataFrame` or `Series` that doesn't come built-in as a method.\n",
    "\n",
    "In this case, I'll pass it an _anonymous_ function, or a function that isn't formally defined with a name, and I'll do this using the `lambda` keyword:"
   ]
  },
  {
   "cell_type": "code",
   "execution_count": 26,
   "metadata": {
    "scrolled": false
   },
   "outputs": [
    {
     "data": {
      "text/plain": [
       "0    32561\n",
       "Name: over_fifty_k, dtype: int64"
      ]
     },
     "execution_count": 26,
     "metadata": {},
     "output_type": "execute_result"
    }
   ],
   "source": [
    "table.over_fifty_k.apply(lambda val: 1 if val == '>50K'else 0).value_counts()"
   ]
  },
  {
   "cell_type": "markdown",
   "metadata": {},
   "source": [
    "Uh oh .. what happened?! you didn't overwrite the original column with that, did you? Restarts notebook...\n",
    "\n",
    "Let's take a closer look at `over_fifty_k`. We can see all _unique_ values in the `Series` with the `unique` method:"
   ]
  },
  {
   "cell_type": "code",
   "execution_count": 27,
   "metadata": {},
   "outputs": [
    {
     "data": {
      "text/plain": [
       "array([' <=50K', ' >50K'], dtype=object)"
      ]
     },
     "execution_count": 27,
     "metadata": {},
     "output_type": "execute_result"
    }
   ],
   "source": [
    "table.over_fifty_k.unique()"
   ]
  },
  {
   "cell_type": "markdown",
   "metadata": {},
   "source": [
    "Ahh, makes sense now ... right? We have some leading spaces around our variables that we'll have to take care of if we want to be able to make sense of this data. Let me now take a moment to say to you: welcome to \"data science\" :)\n",
    "\n",
    "We can take a cue from our previous handling of some of our `object` columns to solve this one:"
   ]
  },
  {
   "cell_type": "code",
   "execution_count": 28,
   "metadata": {},
   "outputs": [],
   "source": [
    "table.over_fifty_k = table.over_fifty_k.str.strip()"
   ]
  },
  {
   "cell_type": "code",
   "execution_count": 29,
   "metadata": {
    "scrolled": false
   },
   "outputs": [
    {
     "data": {
      "text/plain": [
       "False    0.75919\n",
       "True     0.24081\n",
       "Name: over_fifty_k, dtype: float64"
      ]
     },
     "execution_count": 29,
     "metadata": {},
     "output_type": "execute_result"
    }
   ],
   "source": [
    "table.over_fifty_k.apply(lambda _: True if _ == '>50K'else False).value_counts(normalize=True)"
   ]
  },
  {
   "cell_type": "markdown",
   "metadata": {},
   "source": [
    "Much better. Note that we made use of the `normalize` _kwarg_ (short for _keyword argument_) to return _relative_ as opposed to _absolute_ value counts."
   ]
  },
  {
   "cell_type": "code",
   "execution_count": 30,
   "metadata": {
    "scrolled": true
   },
   "outputs": [],
   "source": [
    "table.over_fifty_k = table.over_fifty_k.apply(lambda _: True if _ == '>50K'else False)"
   ]
  },
  {
   "cell_type": "markdown",
   "metadata": {},
   "source": [
    "### Data type handling - almost done\n",
    "\n",
    "Let's take a look at what we've done so far:"
   ]
  },
  {
   "cell_type": "code",
   "execution_count": 31,
   "metadata": {
    "scrolled": true
   },
   "outputs": [
    {
     "data": {
      "text/plain": [
       "object    8\n",
       "int64     6\n",
       "bool      1\n",
       "dtype: int64"
      ]
     },
     "execution_count": 31,
     "metadata": {},
     "output_type": "execute_result"
    }
   ],
   "source": [
    "table.dtypes.value_counts()"
   ]
  },
  {
   "cell_type": "markdown",
   "metadata": {},
   "source": [
    "We can actually make sub-selections on our table, by `dtype`:"
   ]
  },
  {
   "cell_type": "code",
   "execution_count": 32,
   "metadata": {},
   "outputs": [
    {
     "data": {
      "text/html": [
       "<div>\n",
       "<style scoped>\n",
       "    .dataframe tbody tr th:only-of-type {\n",
       "        vertical-align: middle;\n",
       "    }\n",
       "\n",
       "    .dataframe tbody tr th {\n",
       "        vertical-align: top;\n",
       "    }\n",
       "\n",
       "    .dataframe thead th {\n",
       "        text-align: right;\n",
       "    }\n",
       "</style>\n",
       "<table border=\"1\" class=\"dataframe\">\n",
       "  <thead>\n",
       "    <tr style=\"text-align: right;\">\n",
       "      <th></th>\n",
       "      <th>age</th>\n",
       "      <th>fnlwgt</th>\n",
       "      <th>education_num</th>\n",
       "      <th>capital_gain</th>\n",
       "      <th>capital_loss</th>\n",
       "      <th>hours_per_week</th>\n",
       "    </tr>\n",
       "  </thead>\n",
       "  <tbody>\n",
       "    <tr>\n",
       "      <th>0</th>\n",
       "      <td>39</td>\n",
       "      <td>77516</td>\n",
       "      <td>13</td>\n",
       "      <td>2174</td>\n",
       "      <td>0</td>\n",
       "      <td>40</td>\n",
       "    </tr>\n",
       "    <tr>\n",
       "      <th>1</th>\n",
       "      <td>50</td>\n",
       "      <td>83311</td>\n",
       "      <td>13</td>\n",
       "      <td>0</td>\n",
       "      <td>0</td>\n",
       "      <td>13</td>\n",
       "    </tr>\n",
       "    <tr>\n",
       "      <th>2</th>\n",
       "      <td>38</td>\n",
       "      <td>215646</td>\n",
       "      <td>9</td>\n",
       "      <td>0</td>\n",
       "      <td>0</td>\n",
       "      <td>40</td>\n",
       "    </tr>\n",
       "    <tr>\n",
       "      <th>3</th>\n",
       "      <td>53</td>\n",
       "      <td>234721</td>\n",
       "      <td>7</td>\n",
       "      <td>0</td>\n",
       "      <td>0</td>\n",
       "      <td>40</td>\n",
       "    </tr>\n",
       "    <tr>\n",
       "      <th>4</th>\n",
       "      <td>28</td>\n",
       "      <td>338409</td>\n",
       "      <td>13</td>\n",
       "      <td>0</td>\n",
       "      <td>0</td>\n",
       "      <td>40</td>\n",
       "    </tr>\n",
       "  </tbody>\n",
       "</table>\n",
       "</div>"
      ],
      "text/plain": [
       "   age  fnlwgt  education_num  capital_gain  capital_loss  hours_per_week\n",
       "0   39   77516             13          2174             0              40\n",
       "1   50   83311             13             0             0              13\n",
       "2   38  215646              9             0             0              40\n",
       "3   53  234721              7             0             0              40\n",
       "4   28  338409             13             0             0              40"
      ]
     },
     "execution_count": 32,
     "metadata": {},
     "output_type": "execute_result"
    }
   ],
   "source": [
    "table.select_dtypes(include=[int]).head()"
   ]
  },
  {
   "cell_type": "markdown",
   "metadata": {},
   "source": [
    "Wait... before we progress - should we check all the other `object` columns to make sure they don't have the same issue as `over_fifty_k` did?"
   ]
  },
  {
   "cell_type": "markdown",
   "metadata": {},
   "source": [
    "### Problem\n",
    "\n",
    "Check whether other `object` column values have issues with trailing and / or leading spaces, and try to make use of iteration and / or group selection."
   ]
  },
  {
   "cell_type": "markdown",
   "metadata": {},
   "source": [
    "Let's take a look at this `object` data:"
   ]
  },
  {
   "cell_type": "code",
   "execution_count": 33,
   "metadata": {},
   "outputs": [
    {
     "data": {
      "text/html": [
       "<div>\n",
       "<style scoped>\n",
       "    .dataframe tbody tr th:only-of-type {\n",
       "        vertical-align: middle;\n",
       "    }\n",
       "\n",
       "    .dataframe tbody tr th {\n",
       "        vertical-align: top;\n",
       "    }\n",
       "\n",
       "    .dataframe thead th {\n",
       "        text-align: right;\n",
       "    }\n",
       "</style>\n",
       "<table border=\"1\" class=\"dataframe\">\n",
       "  <thead>\n",
       "    <tr style=\"text-align: right;\">\n",
       "      <th></th>\n",
       "      <th>workclass</th>\n",
       "      <th>education</th>\n",
       "      <th>marital_status</th>\n",
       "      <th>occupation</th>\n",
       "      <th>relationship</th>\n",
       "      <th>race</th>\n",
       "      <th>sex</th>\n",
       "      <th>native_country</th>\n",
       "    </tr>\n",
       "  </thead>\n",
       "  <tbody>\n",
       "    <tr>\n",
       "      <th>0</th>\n",
       "      <td>State-gov</td>\n",
       "      <td>Bachelors</td>\n",
       "      <td>Never-married</td>\n",
       "      <td>Adm-clerical</td>\n",
       "      <td>Not-in-family</td>\n",
       "      <td>White</td>\n",
       "      <td>Male</td>\n",
       "      <td>United-States</td>\n",
       "    </tr>\n",
       "    <tr>\n",
       "      <th>1</th>\n",
       "      <td>Self-emp-not-inc</td>\n",
       "      <td>Bachelors</td>\n",
       "      <td>Married-civ-spouse</td>\n",
       "      <td>Exec-managerial</td>\n",
       "      <td>Husband</td>\n",
       "      <td>White</td>\n",
       "      <td>Male</td>\n",
       "      <td>United-States</td>\n",
       "    </tr>\n",
       "    <tr>\n",
       "      <th>2</th>\n",
       "      <td>Private</td>\n",
       "      <td>HS-grad</td>\n",
       "      <td>Divorced</td>\n",
       "      <td>Handlers-cleaners</td>\n",
       "      <td>Not-in-family</td>\n",
       "      <td>White</td>\n",
       "      <td>Male</td>\n",
       "      <td>United-States</td>\n",
       "    </tr>\n",
       "    <tr>\n",
       "      <th>3</th>\n",
       "      <td>Private</td>\n",
       "      <td>11th</td>\n",
       "      <td>Married-civ-spouse</td>\n",
       "      <td>Handlers-cleaners</td>\n",
       "      <td>Husband</td>\n",
       "      <td>Black</td>\n",
       "      <td>Male</td>\n",
       "      <td>United-States</td>\n",
       "    </tr>\n",
       "    <tr>\n",
       "      <th>4</th>\n",
       "      <td>Private</td>\n",
       "      <td>Bachelors</td>\n",
       "      <td>Married-civ-spouse</td>\n",
       "      <td>Prof-specialty</td>\n",
       "      <td>Wife</td>\n",
       "      <td>Black</td>\n",
       "      <td>Female</td>\n",
       "      <td>Cuba</td>\n",
       "    </tr>\n",
       "  </tbody>\n",
       "</table>\n",
       "</div>"
      ],
      "text/plain": [
       "           workclass   education       marital_status          occupation  \\\n",
       "0          State-gov   Bachelors        Never-married        Adm-clerical   \n",
       "1   Self-emp-not-inc   Bachelors   Married-civ-spouse     Exec-managerial   \n",
       "2            Private     HS-grad             Divorced   Handlers-cleaners   \n",
       "3            Private        11th   Married-civ-spouse   Handlers-cleaners   \n",
       "4            Private   Bachelors   Married-civ-spouse      Prof-specialty   \n",
       "\n",
       "     relationship    race      sex  native_country  \n",
       "0   Not-in-family   White     Male   United-States  \n",
       "1         Husband   White     Male   United-States  \n",
       "2   Not-in-family   White     Male   United-States  \n",
       "3         Husband   Black     Male   United-States  \n",
       "4            Wife   Black   Female            Cuba  "
      ]
     },
     "execution_count": 33,
     "metadata": {},
     "output_type": "execute_result"
    }
   ],
   "source": [
    "table.select_dtypes(include=[object]).head()"
   ]
  },
  {
   "cell_type": "markdown",
   "metadata": {},
   "source": [
    "Now we can iterate through these columns as we did with the numeric columns, checking to see if any contain a space:"
   ]
  },
  {
   "cell_type": "code",
   "execution_count": 34,
   "metadata": {},
   "outputs": [
    {
     "data": {
      "text/plain": [
       "[('workclass', 32561),\n",
       " ('education', 32561),\n",
       " ('marital_status', 32561),\n",
       " ('occupation', 32561),\n",
       " ('relationship', 32561),\n",
       " ('race', 32561),\n",
       " ('sex', 32561),\n",
       " ('native_country', 32561)]"
      ]
     },
     "execution_count": 34,
     "metadata": {},
     "output_type": "execute_result"
    }
   ],
   "source": [
    "[(col, table[col].str.contains(\" \").sum()) \n",
    " for col in table.select_dtypes(include=[object]).columns]"
   ]
  },
  {
   "cell_type": "markdown",
   "metadata": {},
   "source": [
    "We can see that _every_ row in the table, in these columns, contains a space - no bueno! But we do not know _where_ in each string value these spaces are occurring. I.e. these could be trailing or leading spaces (bad) or spaces that make up a part of the value (which we would _not_ want to alter - at least not _now_). \n",
    "\n",
    "Luckily for us, the `strip` method will just remove trailing and leading spaces. So we can run this without fear of altering the internals of any of our string values:"
   ]
  },
  {
   "cell_type": "code",
   "execution_count": 35,
   "metadata": {},
   "outputs": [],
   "source": [
    "for col in table.select_dtypes(include=[object]).columns:\n",
    "    table[col] = table[col].str.strip()"
   ]
  },
  {
   "cell_type": "markdown",
   "metadata": {},
   "source": [
    "Let's see if there are any remaining spaces:"
   ]
  },
  {
   "cell_type": "code",
   "execution_count": 36,
   "metadata": {},
   "outputs": [
    {
     "data": {
      "text/plain": [
       "[('workclass', 0),\n",
       " ('education', 0),\n",
       " ('marital_status', 0),\n",
       " ('occupation', 0),\n",
       " ('relationship', 0),\n",
       " ('race', 0),\n",
       " ('sex', 0),\n",
       " ('native_country', 0)]"
      ]
     },
     "execution_count": 36,
     "metadata": {},
     "output_type": "execute_result"
    }
   ],
   "source": [
    "[(col, table[col].str.contains(\" \").sum()) \n",
    " for col in table.select_dtypes(include=[object]).columns]"
   ]
  },
  {
   "cell_type": "markdown",
   "metadata": {},
   "source": [
    "That did the trick!"
   ]
  },
  {
   "cell_type": "markdown",
   "metadata": {},
   "source": [
    "# 2. Exploratory Data Analysis\n",
    "\n",
    "Exploratory data analysis (EDA) is key to understanding your data - this is where you poke around and see how things work."
   ]
  },
  {
   "cell_type": "markdown",
   "metadata": {},
   "source": [
    "### Numeric columns - _distributional analysis_\n",
    "\n",
    "With numeric data, we often want to understand how it's _distributed_, i.e. the frequencies associated with different values in the data.\n",
    "\n",
    "Let's start with `age`. We can see the number of unique values with the `nunique` method:"
   ]
  },
  {
   "cell_type": "code",
   "execution_count": 37,
   "metadata": {},
   "outputs": [
    {
     "data": {
      "text/plain": [
       "73"
      ]
     },
     "execution_count": 37,
     "metadata": {},
     "output_type": "execute_result"
    }
   ],
   "source": [
    "table.age.nunique()"
   ]
  },
  {
   "cell_type": "markdown",
   "metadata": {},
   "source": [
    "We have a good number of values here, but this is still _discrete_ data, so we can actually use `value_counts` to analyze it.\n",
    "\n",
    "In the following cell, we're going to go into `table`, get the `age` column, call `value_counts`, sort the index with the `sort_index` method (so that the ages are presented in _numerical_ order, as opposed order of frequency, which is how `value_counts` will return its results) and then we're going to call `plot`.\n",
    "\n",
    "You can call (i.e. put parantheses after the function name) `plot` directly, which will produce a _line_ plot, or you can specify other types of plots. In this case, we're calling the `bar` method, which will give us a _bar graph_. I've passed some additional arguments to `bar` to control the _size_ of the figure, as well as the _color_ of the plot, and, finally, the rotation of the _x-axis_ labels.\n",
    "\n",
    "The results of this procedure are the _axes_ of the plot, which can be used to further modify the plot. I'm using these _axes_ (stored in the variable `ax`) to set a title."
   ]
  },
  {
   "cell_type": "code",
   "execution_count": 38,
   "metadata": {},
   "outputs": [
    {
     "data": {
      "image/png": "[encoded data removed]",
      "text/plain": [
       "<Figure size 1080x576 with 1 Axes>"
      ]
     },
     "metadata": {
      "needs_background": "light"
     },
     "output_type": "display_data"
    }
   ],
   "source": [
    "ax = table.age.value_counts().sort_index().plot.bar(figsize=(15, 8), color=\"steelblue\", rot=80)\n",
    "ax.title.set_text('age: counts by age')"
   ]
  },
  {
   "cell_type": "markdown",
   "metadata": {},
   "source": [
    "They say a picture's worth a thousand words, and I think that adage undoubtedly holds true in data analysis.\n",
    "\n",
    "Right off the bat, we can see here that there's an unusual spike at 90, which could indicate that all ages greater than or equal to 90 were simply bucketed.Additionally, we can that the 30s are probably the most well-represented decade in this data. \n",
    "\n",
    "Let's put some numbers behind these observations."
   ]
  },
  {
   "cell_type": "code",
   "execution_count": 39,
   "metadata": {},
   "outputs": [
    {
     "data": {
      "text/plain": [
       "count    32561.000000\n",
       "mean        38.581647\n",
       "std         13.640433\n",
       "min         17.000000\n",
       "25%         28.000000\n",
       "50%         37.000000\n",
       "75%         48.000000\n",
       "max         90.000000\n",
       "Name: age, dtype: float64"
      ]
     },
     "execution_count": 39,
     "metadata": {},
     "output_type": "execute_result"
    }
   ],
   "source": [
    "table.age.describe()"
   ]
  },
  {
   "cell_type": "markdown",
   "metadata": {},
   "source": [
    "The `describe` method gives us a number of descriptive stats. In order of appearance:\n",
    "- number of non-null rows\n",
    "- mean\n",
    "- standard deviation\n",
    "- minumum value in the data\n",
    "- 25th percentile\n",
    "- median\n",
    "- 75th percentile\n",
    "- maximum value in the data\n",
    "\n",
    "Note that you can also call these functions individually:"
   ]
  },
  {
   "cell_type": "code",
   "execution_count": 40,
   "metadata": {},
   "outputs": [
    {
     "data": {
      "text/plain": [
       "38.58164675532078"
      ]
     },
     "execution_count": 40,
     "metadata": {},
     "output_type": "execute_result"
    }
   ],
   "source": [
    "table.age.mean()"
   ]
  },
  {
   "cell_type": "markdown",
   "metadata": {},
   "source": [
    "We can see that the average age (noting that this is not a _true_ average, due to binning at 90) is around 39. The fact that the median is a little bit lower than the average is a nod to this data's _positive- or right-skew_. We can also see that this data goes neither below 17 nor above 90.\n",
    "\n",
    "`matploliblib` is a very powerful, if difficult-to-learn, tool. A deep dive into its functionality is outside the scope of this seminar, but to give you a sense of what it can do:"
   ]
  },
  {
   "cell_type": "code",
   "execution_count": 41,
   "metadata": {
    "scrolled": false
   },
   "outputs": [
    {
     "data": {
      "image/png": "[encoded data removed]",
      "text/plain": [
       "<Figure size 792x576 with 1 Axes>"
      ]
     },
     "metadata": {
      "needs_background": "light"
     },
     "output_type": "display_data"
    }
   ],
   "source": [
    "ax = exploratory.center_scale_plot(table.age, np.mean, np.std, bins=73)"
   ]
  },
  {
   "cell_type": "markdown",
   "metadata": {},
   "source": [
    "This is interesting data, as it's got a hard cutoff at 17. Sometimes, when we see data that is very skewed, it can be helpful to take a transform of it. Taking the _logarithm_ of data will strongly reduce data. The _square root_ will reduce skew more gently. The _cube root_ transform works well when dealing with negative values.\n",
    "\n",
    "Let's try the `log` function from `numpy`:"
   ]
  },
  {
   "cell_type": "code",
   "execution_count": 42,
   "metadata": {
    "scrolled": false
   },
   "outputs": [
    {
     "data": {
      "image/png": "[encoded data removed]",
      "text/plain": [
       "<Figure size 792x576 with 1 Axes>"
      ]
     },
     "metadata": {
      "needs_background": "light"
     },
     "output_type": "display_data"
    }
   ],
   "source": [
    "ax = exploratory.center_scale_plot(np.log(table.age), np.mean, np.std, bins=73)"
   ]
  },
  {
   "cell_type": "markdown",
   "metadata": {},
   "source": [
    "I don't know that we'll need this column, but let's go ahead and retain it anyway. Note that when creating a _new_ column, you must use the `table[\"column_name\"]` notation and _not_ `table.column_name` notation:"
   ]
  },
  {
   "cell_type": "code",
   "execution_count": 43,
   "metadata": {},
   "outputs": [],
   "source": [
    "table[\"age_log\"] = np.log(table.age)"
   ]
  },
  {
   "cell_type": "markdown",
   "metadata": {},
   "source": [
    "Let's take a look at a continuous column, `capital_gain`. We will do this through plotting a _histogram_, which we can do through the `DataFrame`'s `hist` method. Similar to before, I will set figure size, color, and a title. I will also tell it how many _bins_ to create."
   ]
  },
  {
   "cell_type": "code",
   "execution_count": 44,
   "metadata": {},
   "outputs": [
    {
     "data": {
      "image/png": "[encoded data removed]",
      "text/plain": [
       "<Figure size 792x576 with 1 Axes>"
      ]
     },
     "metadata": {
      "needs_background": "light"
     },
     "output_type": "display_data"
    }
   ],
   "source": [
    "ax = table.capital_gain.hist(figsize=(11, 8), color=\"steelblue\", bins=100)\n",
    "ax.title.set_text(\"histogram: capital gain\")"
   ]
  },
  {
   "cell_type": "markdown",
   "metadata": {},
   "source": [
    "Wowza! How many people in this data set even have a non-zero capital_gain?"
   ]
  },
  {
   "cell_type": "code",
   "execution_count": 45,
   "metadata": {},
   "outputs": [
    {
     "data": {
      "text/plain": [
       "2712"
      ]
     },
     "execution_count": 45,
     "metadata": {},
     "output_type": "execute_result"
    }
   ],
   "source": [
    "(table.capital_gain > 0).sum()"
   ]
  },
  {
   "cell_type": "markdown",
   "metadata": {},
   "source": [
    "So, less than 10% of the data. I wonder if a similar situation exists for `capital_loss`?"
   ]
  },
  {
   "cell_type": "markdown",
   "metadata": {},
   "source": [
    "### Problem\n",
    "\n",
    "Determine the percentage of people in the data who have a non-zero value for `capital_loss`.\n",
    "\n",
    "Then, confirm whether or not there is overlap between `capital_gain` and `capital_loss`. Hint: to check multiple conditions, each must be wrapped in its own set of paranetheses; you can use `|` for _or_ and `&` for _and_, depending on how you'd like to structure the conditions.\n",
    "\n",
    "Next, create a new column, `capital_gain_net`, that combines the values in `capital_gain` and `capital_loss`. Visualize the results and do a quick write-up on what you have found. Feel free to home in on particular sections of the chart. "
   ]
  },
  {
   "cell_type": "code",
   "execution_count": 46,
   "metadata": {},
   "outputs": [
    {
     "data": {
      "text/plain": [
       "count    32561.000000\n",
       "mean        87.303830\n",
       "std        402.960219\n",
       "min          0.000000\n",
       "25%          0.000000\n",
       "50%          0.000000\n",
       "75%          0.000000\n",
       "max       4356.000000\n",
       "Name: capital_loss, dtype: float64"
      ]
     },
     "execution_count": 46,
     "metadata": {},
     "output_type": "execute_result"
    }
   ],
   "source": [
    "table.capital_loss.describe()"
   ]
  },
  {
   "cell_type": "markdown",
   "metadata": {},
   "source": [
    "If we wanted a nicer view of these results, we could convert this `Series` to a `DataFrame`:"
   ]
  },
  {
   "cell_type": "code",
   "execution_count": 47,
   "metadata": {},
   "outputs": [
    {
     "data": {
      "text/html": [
       "<div>\n",
       "<style scoped>\n",
       "    .dataframe tbody tr th:only-of-type {\n",
       "        vertical-align: middle;\n",
       "    }\n",
       "\n",
       "    .dataframe tbody tr th {\n",
       "        vertical-align: top;\n",
       "    }\n",
       "\n",
       "    .dataframe thead th {\n",
       "        text-align: right;\n",
       "    }\n",
       "</style>\n",
       "<table border=\"1\" class=\"dataframe\">\n",
       "  <thead>\n",
       "    <tr style=\"text-align: right;\">\n",
       "      <th></th>\n",
       "      <th>capital_loss</th>\n",
       "    </tr>\n",
       "  </thead>\n",
       "  <tbody>\n",
       "    <tr>\n",
       "      <th>count</th>\n",
       "      <td>32561.000000</td>\n",
       "    </tr>\n",
       "    <tr>\n",
       "      <th>mean</th>\n",
       "      <td>87.303830</td>\n",
       "    </tr>\n",
       "    <tr>\n",
       "      <th>std</th>\n",
       "      <td>402.960219</td>\n",
       "    </tr>\n",
       "    <tr>\n",
       "      <th>min</th>\n",
       "      <td>0.000000</td>\n",
       "    </tr>\n",
       "    <tr>\n",
       "      <th>25%</th>\n",
       "      <td>0.000000</td>\n",
       "    </tr>\n",
       "    <tr>\n",
       "      <th>50%</th>\n",
       "      <td>0.000000</td>\n",
       "    </tr>\n",
       "    <tr>\n",
       "      <th>75%</th>\n",
       "      <td>0.000000</td>\n",
       "    </tr>\n",
       "    <tr>\n",
       "      <th>max</th>\n",
       "      <td>4356.000000</td>\n",
       "    </tr>\n",
       "  </tbody>\n",
       "</table>\n",
       "</div>"
      ],
      "text/plain": [
       "       capital_loss\n",
       "count  32561.000000\n",
       "mean      87.303830\n",
       "std      402.960219\n",
       "min        0.000000\n",
       "25%        0.000000\n",
       "50%        0.000000\n",
       "75%        0.000000\n",
       "max     4356.000000"
      ]
     },
     "execution_count": 47,
     "metadata": {},
     "output_type": "execute_result"
    }
   ],
   "source": [
    "table.capital_loss.describe().to_frame()"
   ]
  },
  {
   "cell_type": "markdown",
   "metadata": {},
   "source": [
    "If for some reason we wanted a row-wise view of these results, we could then _transpose_:"
   ]
  },
  {
   "cell_type": "code",
   "execution_count": 48,
   "metadata": {},
   "outputs": [
    {
     "data": {
      "text/html": [
       "<div>\n",
       "<style scoped>\n",
       "    .dataframe tbody tr th:only-of-type {\n",
       "        vertical-align: middle;\n",
       "    }\n",
       "\n",
       "    .dataframe tbody tr th {\n",
       "        vertical-align: top;\n",
       "    }\n",
       "\n",
       "    .dataframe thead th {\n",
       "        text-align: right;\n",
       "    }\n",
       "</style>\n",
       "<table border=\"1\" class=\"dataframe\">\n",
       "  <thead>\n",
       "    <tr style=\"text-align: right;\">\n",
       "      <th></th>\n",
       "      <th>count</th>\n",
       "      <th>mean</th>\n",
       "      <th>std</th>\n",
       "      <th>min</th>\n",
       "      <th>25%</th>\n",
       "      <th>50%</th>\n",
       "      <th>75%</th>\n",
       "      <th>max</th>\n",
       "    </tr>\n",
       "  </thead>\n",
       "  <tbody>\n",
       "    <tr>\n",
       "      <th>capital_loss</th>\n",
       "      <td>32561.0</td>\n",
       "      <td>87.30383</td>\n",
       "      <td>402.960219</td>\n",
       "      <td>0.0</td>\n",
       "      <td>0.0</td>\n",
       "      <td>0.0</td>\n",
       "      <td>0.0</td>\n",
       "      <td>4356.0</td>\n",
       "    </tr>\n",
       "  </tbody>\n",
       "</table>\n",
       "</div>"
      ],
      "text/plain": [
       "                count      mean         std  min  25%  50%  75%     max\n",
       "capital_loss  32561.0  87.30383  402.960219  0.0  0.0  0.0  0.0  4356.0"
      ]
     },
     "execution_count": 48,
     "metadata": {},
     "output_type": "execute_result"
    }
   ],
   "source": [
    "table.capital_loss.describe().to_frame().T"
   ]
  },
  {
   "cell_type": "code",
   "execution_count": 49,
   "metadata": {},
   "outputs": [
    {
     "data": {
      "text/plain": [
       "1519"
      ]
     },
     "execution_count": 49,
     "metadata": {},
     "output_type": "execute_result"
    }
   ],
   "source": [
    "(table.capital_loss > 0).sum()"
   ]
  },
  {
   "cell_type": "code",
   "execution_count": 50,
   "metadata": {},
   "outputs": [
    {
     "data": {
      "text/plain": [
       "0.0466509013850926"
      ]
     },
     "execution_count": 50,
     "metadata": {},
     "output_type": "execute_result"
    }
   ],
   "source": [
    "(table.capital_loss > 0).sum() / len(table)"
   ]
  },
  {
   "cell_type": "code",
   "execution_count": 51,
   "metadata": {},
   "outputs": [
    {
     "data": {
      "text/plain": [
       "0"
      ]
     },
     "execution_count": 51,
     "metadata": {},
     "output_type": "execute_result"
    }
   ],
   "source": [
    "((table.capital_gain > 0) & (table.capital_loss > 0)).sum()"
   ]
  },
  {
   "cell_type": "code",
   "execution_count": 52,
   "metadata": {},
   "outputs": [],
   "source": [
    "table[\"capital_gain_net\"] = table.capital_gain - table.capital_loss"
   ]
  },
  {
   "cell_type": "code",
   "execution_count": 53,
   "metadata": {},
   "outputs": [
    {
     "data": {
      "image/png": "[encoded data removed]",
      "text/plain": [
       "<Figure size 792x576 with 1 Axes>"
      ]
     },
     "metadata": {
      "needs_background": "light"
     },
     "output_type": "display_data"
    }
   ],
   "source": [
    "ax = table.capital_gain_net.hist(figsize=(11, 8), color=\"steelblue\", bins=100)\n",
    "ax.title.set_text(\"histogram: net capital gain\")"
   ]
  },
  {
   "cell_type": "markdown",
   "metadata": {},
   "source": [
    "I would like to zoom in on `capital_gain_net` where it's greater than 0. For this, I will use `loc`, which takes, unlike `iloc`, row and column _labels_. You can also pass a boolean mask for a row index:"
   ]
  },
  {
   "cell_type": "code",
   "execution_count": 54,
   "metadata": {},
   "outputs": [
    {
     "data": {
      "image/png": "[encoded data removed]",
      "text/plain": [
       "<Figure size 792x576 with 1 Axes>"
      ]
     },
     "metadata": {
      "needs_background": "light"
     },
     "output_type": "display_data"
    }
   ],
   "source": [
    "ax = table.loc[table.capital_gain_net > 0, \"capital_gain_net\"\n",
    "              ].hist(figsize=(11, 8), \n",
    "                     color=\"steelblue\", bins=100)\n",
    "\n",
    "ax.title.set_text(\"histogram: net capital gain, where it's greater than 0\")"
   ]
  },
  {
   "cell_type": "markdown",
   "metadata": {},
   "source": [
    "Interesting, so, much like with `age`, we appear to have an artificial ceiling. It could be useful to engineer a column that simply indicates whether `capital_gain` is greater than 0:"
   ]
  },
  {
   "cell_type": "code",
   "execution_count": 55,
   "metadata": {},
   "outputs": [],
   "source": [
    "table[\"is_capital_gain_nonzero\"] = table.capital_gain.apply(lambda x: x > 0)"
   ]
  },
  {
   "cell_type": "markdown",
   "metadata": {},
   "source": [
    "Let's take a similar look at `capital_loss`:"
   ]
  },
  {
   "cell_type": "code",
   "execution_count": 56,
   "metadata": {},
   "outputs": [
    {
     "data": {
      "image/png": "[encoded data removed]",
      "text/plain": [
       "<Figure size 792x576 with 1 Axes>"
      ]
     },
     "metadata": {
      "needs_background": "light"
     },
     "output_type": "display_data"
    }
   ],
   "source": [
    "ax = table.loc[table.capital_gain_net < 0, \"capital_gain_net\"\n",
    "              ].hist(figsize=(11, 8), \n",
    "                     color=\"steelblue\", bins=100)\n",
    "\n",
    "ax.title.set_text(\"histogram: net capital gain, where it's less than 0\")"
   ]
  },
  {
   "cell_type": "markdown",
   "metadata": {},
   "source": [
    "So, there's no obvious artificial floor here. But we're dealing with such a small portion of the data that a simple, boolean re-representation could prove useful:"
   ]
  },
  {
   "cell_type": "code",
   "execution_count": 57,
   "metadata": {},
   "outputs": [],
   "source": [
    "table[\"is_capital_loss_nonzero\"] = table.capital_loss.apply(lambda x: x < 0)"
   ]
  },
  {
   "cell_type": "markdown",
   "metadata": {},
   "source": [
    "### Multivariate analysis - the _group by_\n",
    "\n",
    "Anyone who's done SQL before knows how valuable the _group by_ can be. \n",
    "\n",
    "For those unfamiliar, the basic idea is that you take column of categorical data, and group another column of data around it. Or, put differently, you bucket the other column's data based on what values that row takes for the first column. And then you apply some sort of aggregation function. \n",
    "\n",
    "Let's look at an example. Here, we'll look at average `capital_gain` when income is over $50K vs. when it's not:"
   ]
  },
  {
   "cell_type": "code",
   "execution_count": 58,
   "metadata": {},
   "outputs": [
    {
     "data": {
      "text/html": [
       "<div>\n",
       "<style scoped>\n",
       "    .dataframe tbody tr th:only-of-type {\n",
       "        vertical-align: middle;\n",
       "    }\n",
       "\n",
       "    .dataframe tbody tr th {\n",
       "        vertical-align: top;\n",
       "    }\n",
       "\n",
       "    .dataframe thead th {\n",
       "        text-align: right;\n",
       "    }\n",
       "</style>\n",
       "<table border=\"1\" class=\"dataframe\">\n",
       "  <thead>\n",
       "    <tr style=\"text-align: right;\">\n",
       "      <th></th>\n",
       "      <th>capital_gain</th>\n",
       "    </tr>\n",
       "    <tr>\n",
       "      <th>over_fifty_k</th>\n",
       "      <th></th>\n",
       "    </tr>\n",
       "  </thead>\n",
       "  <tbody>\n",
       "    <tr>\n",
       "      <th>False</th>\n",
       "      <td>148.752468</td>\n",
       "    </tr>\n",
       "    <tr>\n",
       "      <th>True</th>\n",
       "      <td>4006.142456</td>\n",
       "    </tr>\n",
       "  </tbody>\n",
       "</table>\n",
       "</div>"
      ],
      "text/plain": [
       "              capital_gain\n",
       "over_fifty_k              \n",
       "False           148.752468\n",
       "True           4006.142456"
      ]
     },
     "execution_count": 58,
     "metadata": {},
     "output_type": "execute_result"
    }
   ],
   "source": [
    "table[[\"over_fifty_k\", \"capital_gain\"]].groupby(\"over_fifty_k\").mean()"
   ]
  },
  {
   "cell_type": "markdown",
   "metadata": {},
   "source": [
    "Interesting, or maybe, not? Folks earning over $50K per year had, on average, much higher capital gains. \n",
    "\n",
    "Let's throw standard deviation into the mix. First, we'll save our previous result into a new variable (I'm prefixing the variable name with an underscore so as to avoid cluttering the namespace):"
   ]
  },
  {
   "cell_type": "code",
   "execution_count": 59,
   "metadata": {},
   "outputs": [],
   "source": [
    "_cap_gains_means = table[[\"over_fifty_k\", \"capital_gain\"]\n",
    "                        ].groupby(\"over_fifty_k\").mean()"
   ]
  },
  {
   "cell_type": "markdown",
   "metadata": {},
   "source": [
    "Next, let's rename the column so as to avoid ambiguity:"
   ]
  },
  {
   "cell_type": "code",
   "execution_count": 60,
   "metadata": {},
   "outputs": [
    {
     "data": {
      "text/plain": [
       "Index(['capital_gain'], dtype='object')"
      ]
     },
     "execution_count": 60,
     "metadata": {},
     "output_type": "execute_result"
    }
   ],
   "source": [
    "_cap_gains_means.columns"
   ]
  },
  {
   "cell_type": "code",
   "execution_count": 61,
   "metadata": {},
   "outputs": [],
   "source": [
    "_cap_gains_means = _cap_gains_means.rename(columns={\"capital_gain\": \"capital_gain_mean\"})"
   ]
  },
  {
   "cell_type": "markdown",
   "metadata": {},
   "source": [
    "Note that we could have achieved the same result by running: `_cap_gains_means.columns = [\"capital_gain_mean\"]`"
   ]
  },
  {
   "cell_type": "markdown",
   "metadata": {},
   "source": [
    "Next, let's create the standard deviation result:"
   ]
  },
  {
   "cell_type": "code",
   "execution_count": 62,
   "metadata": {},
   "outputs": [],
   "source": [
    "_cap_gains_std = table[[\"over_fifty_k\", \"capital_gain\"]\n",
    "                        ].groupby(\"over_fifty_k\").std()"
   ]
  },
  {
   "cell_type": "code",
   "execution_count": 63,
   "metadata": {},
   "outputs": [],
   "source": [
    "_cap_gains_std = _cap_gains_std.rename(columns={\"capital_gain\": \"capital_gain_std\"})"
   ]
  },
  {
   "cell_type": "markdown",
   "metadata": {},
   "source": [
    "Finally, we can _join_ these tables together. For those unfamiliar, this is another important SQL concept in which we, using a common column (in this case, the row index), concatenate the columns of two (or more) tables together."
   ]
  },
  {
   "cell_type": "code",
   "execution_count": 64,
   "metadata": {},
   "outputs": [
    {
     "data": {
      "text/html": [
       "<div>\n",
       "<style scoped>\n",
       "    .dataframe tbody tr th:only-of-type {\n",
       "        vertical-align: middle;\n",
       "    }\n",
       "\n",
       "    .dataframe tbody tr th {\n",
       "        vertical-align: top;\n",
       "    }\n",
       "\n",
       "    .dataframe thead th {\n",
       "        text-align: right;\n",
       "    }\n",
       "</style>\n",
       "<table border=\"1\" class=\"dataframe\">\n",
       "  <thead>\n",
       "    <tr style=\"text-align: right;\">\n",
       "      <th></th>\n",
       "      <th>capital_gain_mean</th>\n",
       "      <th>capital_gain_std</th>\n",
       "    </tr>\n",
       "    <tr>\n",
       "      <th>over_fifty_k</th>\n",
       "      <th></th>\n",
       "      <th></th>\n",
       "    </tr>\n",
       "  </thead>\n",
       "  <tbody>\n",
       "    <tr>\n",
       "      <th>False</th>\n",
       "      <td>148.752468</td>\n",
       "      <td>963.139307</td>\n",
       "    </tr>\n",
       "    <tr>\n",
       "      <th>True</th>\n",
       "      <td>4006.142456</td>\n",
       "      <td>14570.378951</td>\n",
       "    </tr>\n",
       "  </tbody>\n",
       "</table>\n",
       "</div>"
      ],
      "text/plain": [
       "              capital_gain_mean  capital_gain_std\n",
       "over_fifty_k                                     \n",
       "False                148.752468        963.139307\n",
       "True                4006.142456      14570.378951"
      ]
     },
     "execution_count": 64,
     "metadata": {},
     "output_type": "execute_result"
    }
   ],
   "source": [
    "_cap_gains_means.join(_cap_gains_std)"
   ]
  },
  {
   "cell_type": "markdown",
   "metadata": {},
   "source": [
    "So, we have a much higher _average_ `capital_gain` with higher income, but also much more _volatility_. Let's quanitfy that on a relative basis."
   ]
  },
  {
   "cell_type": "code",
   "execution_count": 65,
   "metadata": {},
   "outputs": [],
   "source": [
    "_cap_gains_joined = _cap_gains_means.join(_cap_gains_std)"
   ]
  },
  {
   "cell_type": "code",
   "execution_count": 66,
   "metadata": {},
   "outputs": [],
   "source": [
    "_cap_gains_joined[\"cap_gains_ratio\"] = _cap_gains_joined.capital_gain_std / _cap_gains_joined.capital_gain_mean"
   ]
  },
  {
   "cell_type": "code",
   "execution_count": 67,
   "metadata": {},
   "outputs": [
    {
     "data": {
      "text/html": [
       "<div>\n",
       "<style scoped>\n",
       "    .dataframe tbody tr th:only-of-type {\n",
       "        vertical-align: middle;\n",
       "    }\n",
       "\n",
       "    .dataframe tbody tr th {\n",
       "        vertical-align: top;\n",
       "    }\n",
       "\n",
       "    .dataframe thead th {\n",
       "        text-align: right;\n",
       "    }\n",
       "</style>\n",
       "<table border=\"1\" class=\"dataframe\">\n",
       "  <thead>\n",
       "    <tr style=\"text-align: right;\">\n",
       "      <th></th>\n",
       "      <th>capital_gain_mean</th>\n",
       "      <th>capital_gain_std</th>\n",
       "      <th>cap_gains_ratio</th>\n",
       "    </tr>\n",
       "    <tr>\n",
       "      <th>over_fifty_k</th>\n",
       "      <th></th>\n",
       "      <th></th>\n",
       "      <th></th>\n",
       "    </tr>\n",
       "  </thead>\n",
       "  <tbody>\n",
       "    <tr>\n",
       "      <th>False</th>\n",
       "      <td>148.752468</td>\n",
       "      <td>963.139307</td>\n",
       "      <td>6.474779</td>\n",
       "    </tr>\n",
       "    <tr>\n",
       "      <th>True</th>\n",
       "      <td>4006.142456</td>\n",
       "      <td>14570.378951</td>\n",
       "      <td>3.637010</td>\n",
       "    </tr>\n",
       "  </tbody>\n",
       "</table>\n",
       "</div>"
      ],
      "text/plain": [
       "              capital_gain_mean  capital_gain_std  cap_gains_ratio\n",
       "over_fifty_k                                                      \n",
       "False                148.752468        963.139307         6.474779\n",
       "True                4006.142456      14570.378951         3.637010"
      ]
     },
     "execution_count": 67,
     "metadata": {},
     "output_type": "execute_result"
    }
   ],
   "source": [
    "_cap_gains_joined"
   ]
  },
  {
   "cell_type": "markdown",
   "metadata": {},
   "source": [
    "Interesting - _proportionately_, the low-income folks have more volatility. Do you think we could replicate this anlysis for our other numeric columns?\n",
    "\n",
    "Now, before we do that ... based on our knowledge of the data, we've (hopefully) noticed that `education` and `education_num` are, for all intents and purposes, identical - so let's kill one from `table`:"
   ]
  },
  {
   "cell_type": "code",
   "execution_count": 68,
   "metadata": {},
   "outputs": [],
   "source": [
    "table = table.drop(\"education_num\", axis=1)"
   ]
  },
  {
   "cell_type": "markdown",
   "metadata": {},
   "source": [
    "### Problem\n",
    "\n",
    "Replicate the above group-by analysis, which we performed on `capital_gain`, on the other numeric columns in the data. Do this as programmatically as you can. Bonus points if you can figure out a way to measure the disparity between the results where `over_fifty_k` is `True`, and where it's `False`"
   ]
  },
  {
   "cell_type": "code",
   "execution_count": 69,
   "metadata": {},
   "outputs": [],
   "source": [
    "def get_group_by_stats(df, col_to_group_by, col_to_group):\n",
    "    means = df[[col_to_group_by, col_to_group]\n",
    "               ].groupby(col_to_group_by).mean()\n",
    "    \n",
    "    means = means.rename(columns={col_to_group: f\"{col_to_group}_mean\"})\n",
    "    \n",
    "    stds = df[[col_to_group_by, col_to_group]\n",
    "               ].groupby(col_to_group_by).std()\n",
    "    \n",
    "    stds = stds.rename(columns={col_to_group: f\"{col_to_group}_std\"})\n",
    "    \n",
    "    joined = means.join(stds)\n",
    "    joined[f\"{col_to_group}_ratio\"] = joined[f\"{col_to_group}_std\"] / joined[f\"{col_to_group}_mean\"]\n",
    "    \n",
    "    return joined"
   ]
  },
  {
   "cell_type": "code",
   "execution_count": 70,
   "metadata": {},
   "outputs": [
    {
     "data": {
      "text/html": [
       "<div>\n",
       "<style scoped>\n",
       "    .dataframe tbody tr th:only-of-type {\n",
       "        vertical-align: middle;\n",
       "    }\n",
       "\n",
       "    .dataframe tbody tr th {\n",
       "        vertical-align: top;\n",
       "    }\n",
       "\n",
       "    .dataframe thead th {\n",
       "        text-align: right;\n",
       "    }\n",
       "</style>\n",
       "<table border=\"1\" class=\"dataframe\">\n",
       "  <thead>\n",
       "    <tr style=\"text-align: right;\">\n",
       "      <th></th>\n",
       "      <th>capital_gain_mean</th>\n",
       "      <th>capital_gain_std</th>\n",
       "      <th>capital_gain_ratio</th>\n",
       "    </tr>\n",
       "    <tr>\n",
       "      <th>over_fifty_k</th>\n",
       "      <th></th>\n",
       "      <th></th>\n",
       "      <th></th>\n",
       "    </tr>\n",
       "  </thead>\n",
       "  <tbody>\n",
       "    <tr>\n",
       "      <th>False</th>\n",
       "      <td>148.752468</td>\n",
       "      <td>963.139307</td>\n",
       "      <td>6.474779</td>\n",
       "    </tr>\n",
       "    <tr>\n",
       "      <th>True</th>\n",
       "      <td>4006.142456</td>\n",
       "      <td>14570.378951</td>\n",
       "      <td>3.637010</td>\n",
       "    </tr>\n",
       "  </tbody>\n",
       "</table>\n",
       "</div>"
      ],
      "text/plain": [
       "              capital_gain_mean  capital_gain_std  capital_gain_ratio\n",
       "over_fifty_k                                                         \n",
       "False                148.752468        963.139307            6.474779\n",
       "True                4006.142456      14570.378951            3.637010"
      ]
     },
     "execution_count": 70,
     "metadata": {},
     "output_type": "execute_result"
    }
   ],
   "source": [
    "get_group_by_stats(table, \"over_fifty_k\", \"capital_gain\")"
   ]
  },
  {
   "cell_type": "markdown",
   "metadata": {},
   "source": [
    "We can use a _list comprehension_ to programmatically generate a list of results for our columns:"
   ]
  },
  {
   "cell_type": "code",
   "execution_count": 71,
   "metadata": {},
   "outputs": [],
   "source": [
    "_df_list = [get_group_by_stats(table, \"over_fifty_k\", col)\n",
    "            for col in table.select_dtypes(include=[int, float]).columns]"
   ]
  },
  {
   "cell_type": "markdown",
   "metadata": {},
   "source": [
    "We can then use the following trick to _efficiently_ combine these results (I'll also transpose results for viewability):"
   ]
  },
  {
   "cell_type": "code",
   "execution_count": 72,
   "metadata": {},
   "outputs": [
    {
     "data": {
      "text/html": [
       "<div>\n",
       "<style scoped>\n",
       "    .dataframe tbody tr th:only-of-type {\n",
       "        vertical-align: middle;\n",
       "    }\n",
       "\n",
       "    .dataframe tbody tr th {\n",
       "        vertical-align: top;\n",
       "    }\n",
       "\n",
       "    .dataframe thead th {\n",
       "        text-align: right;\n",
       "    }\n",
       "</style>\n",
       "<table border=\"1\" class=\"dataframe\">\n",
       "  <thead>\n",
       "    <tr style=\"text-align: right;\">\n",
       "      <th>over_fifty_k</th>\n",
       "      <th>False</th>\n",
       "      <th>True</th>\n",
       "    </tr>\n",
       "  </thead>\n",
       "  <tbody>\n",
       "    <tr>\n",
       "      <th>age_mean</th>\n",
       "      <td>36.783738</td>\n",
       "      <td>44.249841</td>\n",
       "    </tr>\n",
       "    <tr>\n",
       "      <th>age_std</th>\n",
       "      <td>14.020088</td>\n",
       "      <td>10.519028</td>\n",
       "    </tr>\n",
       "    <tr>\n",
       "      <th>age_ratio</th>\n",
       "      <td>0.381149</td>\n",
       "      <td>0.237719</td>\n",
       "    </tr>\n",
       "    <tr>\n",
       "      <th>fnlwgt_mean</th>\n",
       "      <td>190340.865170</td>\n",
       "      <td>188005.000000</td>\n",
       "    </tr>\n",
       "    <tr>\n",
       "      <th>fnlwgt_std</th>\n",
       "      <td>106482.271195</td>\n",
       "      <td>102541.775472</td>\n",
       "    </tr>\n",
       "    <tr>\n",
       "      <th>fnlwgt_ratio</th>\n",
       "      <td>0.559429</td>\n",
       "      <td>0.545420</td>\n",
       "    </tr>\n",
       "    <tr>\n",
       "      <th>capital_gain_mean</th>\n",
       "      <td>148.752468</td>\n",
       "      <td>4006.142456</td>\n",
       "    </tr>\n",
       "    <tr>\n",
       "      <th>capital_gain_std</th>\n",
       "      <td>963.139307</td>\n",
       "      <td>14570.378951</td>\n",
       "    </tr>\n",
       "    <tr>\n",
       "      <th>capital_gain_ratio</th>\n",
       "      <td>6.474779</td>\n",
       "      <td>3.637010</td>\n",
       "    </tr>\n",
       "    <tr>\n",
       "      <th>capital_loss_mean</th>\n",
       "      <td>53.142921</td>\n",
       "      <td>195.001530</td>\n",
       "    </tr>\n",
       "    <tr>\n",
       "      <th>capital_loss_std</th>\n",
       "      <td>310.755769</td>\n",
       "      <td>595.487574</td>\n",
       "    </tr>\n",
       "    <tr>\n",
       "      <th>capital_loss_ratio</th>\n",
       "      <td>5.847548</td>\n",
       "      <td>3.053758</td>\n",
       "    </tr>\n",
       "    <tr>\n",
       "      <th>hours_per_week_mean</th>\n",
       "      <td>38.840210</td>\n",
       "      <td>45.473026</td>\n",
       "    </tr>\n",
       "    <tr>\n",
       "      <th>hours_per_week_std</th>\n",
       "      <td>12.318995</td>\n",
       "      <td>11.012971</td>\n",
       "    </tr>\n",
       "    <tr>\n",
       "      <th>hours_per_week_ratio</th>\n",
       "      <td>0.317171</td>\n",
       "      <td>0.242187</td>\n",
       "    </tr>\n",
       "    <tr>\n",
       "      <th>age_log_mean</th>\n",
       "      <td>3.534742</td>\n",
       "      <td>3.761551</td>\n",
       "    </tr>\n",
       "    <tr>\n",
       "      <th>age_log_std</th>\n",
       "      <td>0.374846</td>\n",
       "      <td>0.239361</td>\n",
       "    </tr>\n",
       "    <tr>\n",
       "      <th>age_log_ratio</th>\n",
       "      <td>0.106046</td>\n",
       "      <td>0.063634</td>\n",
       "    </tr>\n",
       "    <tr>\n",
       "      <th>capital_gain_net_mean</th>\n",
       "      <td>95.609547</td>\n",
       "      <td>3811.140926</td>\n",
       "    </tr>\n",
       "    <tr>\n",
       "      <th>capital_gain_net_std</th>\n",
       "      <td>1019.812431</td>\n",
       "      <td>14636.022525</td>\n",
       "    </tr>\n",
       "    <tr>\n",
       "      <th>capital_gain_net_ratio</th>\n",
       "      <td>10.666429</td>\n",
       "      <td>3.840326</td>\n",
       "    </tr>\n",
       "  </tbody>\n",
       "</table>\n",
       "</div>"
      ],
      "text/plain": [
       "over_fifty_k                    False          True \n",
       "age_mean                    36.783738      44.249841\n",
       "age_std                     14.020088      10.519028\n",
       "age_ratio                    0.381149       0.237719\n",
       "fnlwgt_mean             190340.865170  188005.000000\n",
       "fnlwgt_std              106482.271195  102541.775472\n",
       "fnlwgt_ratio                 0.559429       0.545420\n",
       "capital_gain_mean          148.752468    4006.142456\n",
       "capital_gain_std           963.139307   14570.378951\n",
       "capital_gain_ratio           6.474779       3.637010\n",
       "capital_loss_mean           53.142921     195.001530\n",
       "capital_loss_std           310.755769     595.487574\n",
       "capital_loss_ratio           5.847548       3.053758\n",
       "hours_per_week_mean         38.840210      45.473026\n",
       "hours_per_week_std          12.318995      11.012971\n",
       "hours_per_week_ratio         0.317171       0.242187\n",
       "age_log_mean                 3.534742       3.761551\n",
       "age_log_std                  0.374846       0.239361\n",
       "age_log_ratio                0.106046       0.063634\n",
       "capital_gain_net_mean       95.609547    3811.140926\n",
       "capital_gain_net_std      1019.812431   14636.022525\n",
       "capital_gain_net_ratio      10.666429       3.840326"
      ]
     },
     "execution_count": 72,
     "metadata": {},
     "output_type": "execute_result"
    }
   ],
   "source": [
    "_df_list[0].join(_df_list[1:]).T"
   ]
  },
  {
   "cell_type": "markdown",
   "metadata": {},
   "source": [
    "Let's save these results:"
   ]
  },
  {
   "cell_type": "code",
   "execution_count": 73,
   "metadata": {},
   "outputs": [],
   "source": [
    "_combined = _df_list[0].join(_df_list[1:]).T"
   ]
  },
  {
   "cell_type": "code",
   "execution_count": 74,
   "metadata": {},
   "outputs": [
    {
     "data": {
      "text/plain": [
       "Index([False, True], dtype='object', name='over_fifty_k')"
      ]
     },
     "execution_count": 74,
     "metadata": {},
     "output_type": "execute_result"
    }
   ],
   "source": [
    "_combined.columns"
   ]
  },
  {
   "cell_type": "markdown",
   "metadata": {},
   "source": [
    "Notice that our column names are not strings, but the actual values `True` and `False`. Using _protected keywords_ like this can get you in to trouble, so let's map these to something safer:"
   ]
  },
  {
   "cell_type": "code",
   "execution_count": 75,
   "metadata": {},
   "outputs": [],
   "source": [
    "_combined.columns = list(map(lambda x: str(x) + \"_\", _combined.columns))"
   ]
  },
  {
   "cell_type": "markdown",
   "metadata": {},
   "source": [
    "Next, as a measure of disparity, let's calculate standard deviation across our columns:"
   ]
  },
  {
   "cell_type": "code",
   "execution_count": 76,
   "metadata": {},
   "outputs": [],
   "source": [
    "_combined[\"std\"] = _combined.std(axis=1)"
   ]
  },
  {
   "cell_type": "markdown",
   "metadata": {},
   "source": [
    "It might make most sense to limit disparity across a certain measure, so let's filter our results down to mean aggregations:"
   ]
  },
  {
   "cell_type": "code",
   "execution_count": 77,
   "metadata": {},
   "outputs": [],
   "source": [
    "_combined_filtered = _combined.loc[_combined.index.str.endswith(\"mean\")]"
   ]
  },
  {
   "cell_type": "markdown",
   "metadata": {},
   "source": [
    "Finally, we can sort by `std` and look at the top 10 values:"
   ]
  },
  {
   "cell_type": "code",
   "execution_count": 78,
   "metadata": {
    "scrolled": true
   },
   "outputs": [
    {
     "data": {
      "text/html": [
       "<div>\n",
       "<style scoped>\n",
       "    .dataframe tbody tr th:only-of-type {\n",
       "        vertical-align: middle;\n",
       "    }\n",
       "\n",
       "    .dataframe tbody tr th {\n",
       "        vertical-align: top;\n",
       "    }\n",
       "\n",
       "    .dataframe thead th {\n",
       "        text-align: right;\n",
       "    }\n",
       "</style>\n",
       "<table border=\"1\" class=\"dataframe\">\n",
       "  <thead>\n",
       "    <tr style=\"text-align: right;\">\n",
       "      <th></th>\n",
       "      <th>False_</th>\n",
       "      <th>True_</th>\n",
       "      <th>std</th>\n",
       "    </tr>\n",
       "  </thead>\n",
       "  <tbody>\n",
       "    <tr>\n",
       "      <th>capital_gain_mean</th>\n",
       "      <td>148.752468</td>\n",
       "      <td>4006.142456</td>\n",
       "      <td>2727.586619</td>\n",
       "    </tr>\n",
       "    <tr>\n",
       "      <th>capital_gain_net_mean</th>\n",
       "      <td>95.609547</td>\n",
       "      <td>3811.140926</td>\n",
       "      <td>2627.277434</td>\n",
       "    </tr>\n",
       "    <tr>\n",
       "      <th>fnlwgt_mean</th>\n",
       "      <td>190340.865170</td>\n",
       "      <td>188005.000000</td>\n",
       "      <td>1651.706102</td>\n",
       "    </tr>\n",
       "    <tr>\n",
       "      <th>capital_loss_mean</th>\n",
       "      <td>53.142921</td>\n",
       "      <td>195.001530</td>\n",
       "      <td>100.309185</td>\n",
       "    </tr>\n",
       "    <tr>\n",
       "      <th>age_mean</th>\n",
       "      <td>36.783738</td>\n",
       "      <td>44.249841</td>\n",
       "      <td>5.279332</td>\n",
       "    </tr>\n",
       "    <tr>\n",
       "      <th>hours_per_week_mean</th>\n",
       "      <td>38.840210</td>\n",
       "      <td>45.473026</td>\n",
       "      <td>4.690109</td>\n",
       "    </tr>\n",
       "    <tr>\n",
       "      <th>age_log_mean</th>\n",
       "      <td>3.534742</td>\n",
       "      <td>3.761551</td>\n",
       "      <td>0.160378</td>\n",
       "    </tr>\n",
       "  </tbody>\n",
       "</table>\n",
       "</div>"
      ],
      "text/plain": [
       "                              False_          True_          std\n",
       "capital_gain_mean         148.752468    4006.142456  2727.586619\n",
       "capital_gain_net_mean      95.609547    3811.140926  2627.277434\n",
       "fnlwgt_mean            190340.865170  188005.000000  1651.706102\n",
       "capital_loss_mean          53.142921     195.001530   100.309185\n",
       "age_mean                   36.783738      44.249841     5.279332\n",
       "hours_per_week_mean        38.840210      45.473026     4.690109\n",
       "age_log_mean                3.534742       3.761551     0.160378"
      ]
     },
     "execution_count": 78,
     "metadata": {},
     "output_type": "execute_result"
    }
   ],
   "source": [
    "_combined_filtered.sort_values(\"std\", ascending=False).iloc[:10]"
   ]
  },
  {
   "cell_type": "markdown",
   "metadata": {},
   "source": [
    "So, at least _kind of_ cool, eh? You could go further here, for sure - pre-scaling these values down so that they're all within the same range would probably make this analyis more reliable. But the point is to show that one can actually get a whole lotta insight with just a bit of _analytical wrangling_, if you will - no machine learning required."
   ]
  },
  {
   "cell_type": "markdown",
   "metadata": {},
   "source": [
    "### Multivariate analysis - _cross tabulations_\n",
    "\n",
    "Can we do something similar for categorical data?"
   ]
  },
  {
   "cell_type": "code",
   "execution_count": 79,
   "metadata": {
    "scrolled": true
   },
   "outputs": [
    {
     "data": {
      "text/html": [
       "<div>\n",
       "<style scoped>\n",
       "    .dataframe tbody tr th:only-of-type {\n",
       "        vertical-align: middle;\n",
       "    }\n",
       "\n",
       "    .dataframe tbody tr th {\n",
       "        vertical-align: top;\n",
       "    }\n",
       "\n",
       "    .dataframe thead th {\n",
       "        text-align: right;\n",
       "    }\n",
       "</style>\n",
       "<table border=\"1\" class=\"dataframe\">\n",
       "  <thead>\n",
       "    <tr style=\"text-align: right;\">\n",
       "      <th>over_fifty_k</th>\n",
       "      <th>False</th>\n",
       "      <th>True</th>\n",
       "    </tr>\n",
       "    <tr>\n",
       "      <th>marital_status</th>\n",
       "      <th></th>\n",
       "      <th></th>\n",
       "    </tr>\n",
       "  </thead>\n",
       "  <tbody>\n",
       "    <tr>\n",
       "      <th>Divorced</th>\n",
       "      <td>3980</td>\n",
       "      <td>463</td>\n",
       "    </tr>\n",
       "    <tr>\n",
       "      <th>Married-AF-spouse</th>\n",
       "      <td>13</td>\n",
       "      <td>10</td>\n",
       "    </tr>\n",
       "    <tr>\n",
       "      <th>Married-civ-spouse</th>\n",
       "      <td>8284</td>\n",
       "      <td>6692</td>\n",
       "    </tr>\n",
       "    <tr>\n",
       "      <th>Married-spouse-absent</th>\n",
       "      <td>384</td>\n",
       "      <td>34</td>\n",
       "    </tr>\n",
       "    <tr>\n",
       "      <th>Never-married</th>\n",
       "      <td>10192</td>\n",
       "      <td>491</td>\n",
       "    </tr>\n",
       "    <tr>\n",
       "      <th>Separated</th>\n",
       "      <td>959</td>\n",
       "      <td>66</td>\n",
       "    </tr>\n",
       "    <tr>\n",
       "      <th>Widowed</th>\n",
       "      <td>908</td>\n",
       "      <td>85</td>\n",
       "    </tr>\n",
       "  </tbody>\n",
       "</table>\n",
       "</div>"
      ],
      "text/plain": [
       "over_fifty_k           False  True \n",
       "marital_status                     \n",
       "Divorced                3980    463\n",
       "Married-AF-spouse         13     10\n",
       "Married-civ-spouse      8284   6692\n",
       "Married-spouse-absent    384     34\n",
       "Never-married          10192    491\n",
       "Separated                959     66\n",
       "Widowed                  908     85"
      ]
     },
     "execution_count": 79,
     "metadata": {},
     "output_type": "execute_result"
    }
   ],
   "source": [
    "pd.crosstab(table.over_fifty_k, table.marital_status).T"
   ]
  },
  {
   "cell_type": "markdown",
   "metadata": {},
   "source": [
    "The `pd.crosstab` function allows us to break down data into groups, based on the values the passed rows take for each of two columns, and returns the count for each group."
   ]
  },
  {
   "cell_type": "markdown",
   "metadata": {},
   "source": [
    "Let's save these results:"
   ]
  },
  {
   "cell_type": "code",
   "execution_count": 80,
   "metadata": {},
   "outputs": [],
   "source": [
    "_cross_tabs = pd.crosstab(table.over_fifty_k, table.marital_status).T"
   ]
  },
  {
   "cell_type": "markdown",
   "metadata": {},
   "source": [
    "Get relative counts:"
   ]
  },
  {
   "cell_type": "code",
   "execution_count": 81,
   "metadata": {},
   "outputs": [],
   "source": [
    "_cross_tabs = _cross_tabs / len(table)"
   ]
  },
  {
   "cell_type": "markdown",
   "metadata": {},
   "source": [
    "Confirm our counts make sense:"
   ]
  },
  {
   "cell_type": "code",
   "execution_count": 82,
   "metadata": {},
   "outputs": [
    {
     "data": {
      "text/plain": [
       "1.0"
      ]
     },
     "execution_count": 82,
     "metadata": {},
     "output_type": "execute_result"
    }
   ],
   "source": [
    "_cross_tabs.sum().sum()"
   ]
  },
  {
   "cell_type": "markdown",
   "metadata": {},
   "source": [
    "Visualize results:"
   ]
  },
  {
   "cell_type": "code",
   "execution_count": 83,
   "metadata": {
    "scrolled": true
   },
   "outputs": [
    {
     "data": {
      "image/png": "[encoded data removed]",
      "text/plain": [
       "<Figure size 792x576 with 1 Axes>"
      ]
     },
     "metadata": {
      "needs_background": "light"
     },
     "output_type": "display_data"
    }
   ],
   "source": [
    "ax = _cross_tabs.plot.barh(figsize=(11, 8))"
   ]
  },
  {
   "cell_type": "markdown",
   "metadata": {},
   "source": [
    "Can we go even further, tabulating more than two columns? In fact, we can:"
   ]
  },
  {
   "cell_type": "code",
   "execution_count": 84,
   "metadata": {},
   "outputs": [
    {
     "data": {
      "text/plain": [
       "over_fifty_k  marital_status         sex   \n",
       "False         Divorced               Female    2493\n",
       "                                     Male      1487\n",
       "              Married-AF-spouse      Female       8\n",
       "                                     Male         5\n",
       "              Married-civ-spouse     Female     903\n",
       "                                     Male      7381\n",
       "              Married-spouse-absent  Female     194\n",
       "                                     Male       190\n",
       "              Never-married          Female    4601\n",
       "                                     Male      5591\n",
       "              Separated              Female     614\n",
       "                                     Male       345\n",
       "              Widowed                Female     779\n",
       "                                     Male       129\n",
       "True          Divorced               Female     179\n",
       "                                     Male       284\n",
       "              Married-AF-spouse      Female       6\n",
       "                                     Male         4\n",
       "              Married-civ-spouse     Female     754\n",
       "                                     Male      5938\n",
       "              Married-spouse-absent  Female      11\n",
       "                                     Male        23\n",
       "              Never-married          Female     166\n",
       "                                     Male       325\n",
       "              Separated              Female      17\n",
       "                                     Male        49\n",
       "              Widowed                Female      46\n",
       "                                     Male        39\n",
       "dtype: int64"
      ]
     },
     "execution_count": 84,
     "metadata": {},
     "output_type": "execute_result"
    }
   ],
   "source": [
    "table[[\"over_fifty_k\", \"marital_status\", \"sex\"]\n",
    "     ].groupby([\"over_fifty_k\", \"marital_status\", \"sex\"]\n",
    "     ).size()"
   ]
  },
  {
   "cell_type": "markdown",
   "metadata": {},
   "source": [
    "Look at that monstrosity! Can we make it make a little more sense? Let's save it and give it a name:"
   ]
  },
  {
   "cell_type": "code",
   "execution_count": 85,
   "metadata": {},
   "outputs": [],
   "source": [
    "_multi_tab = table[[\"over_fifty_k\", \"marital_status\", \"sex\"]\n",
    "                     ].groupby([\"over_fifty_k\", \"marital_status\", \"sex\"]\n",
    "                     ).size().rename(\"size\")"
   ]
  },
  {
   "cell_type": "markdown",
   "metadata": {},
   "source": [
    "Using the `unstack` method, we can pop one of our row-level breakdowns into a columnar breakdown:"
   ]
  },
  {
   "cell_type": "code",
   "execution_count": 86,
   "metadata": {},
   "outputs": [
    {
     "data": {
      "text/html": [
       "<div>\n",
       "<style scoped>\n",
       "    .dataframe tbody tr th:only-of-type {\n",
       "        vertical-align: middle;\n",
       "    }\n",
       "\n",
       "    .dataframe tbody tr th {\n",
       "        vertical-align: top;\n",
       "    }\n",
       "\n",
       "    .dataframe thead th {\n",
       "        text-align: right;\n",
       "    }\n",
       "</style>\n",
       "<table border=\"1\" class=\"dataframe\">\n",
       "  <thead>\n",
       "    <tr style=\"text-align: right;\">\n",
       "      <th></th>\n",
       "      <th>sex</th>\n",
       "      <th>Female</th>\n",
       "      <th>Male</th>\n",
       "    </tr>\n",
       "    <tr>\n",
       "      <th>over_fifty_k</th>\n",
       "      <th>marital_status</th>\n",
       "      <th></th>\n",
       "      <th></th>\n",
       "    </tr>\n",
       "  </thead>\n",
       "  <tbody>\n",
       "    <tr>\n",
       "      <th rowspan=\"7\" valign=\"top\">False</th>\n",
       "      <th>Divorced</th>\n",
       "      <td>2493</td>\n",
       "      <td>1487</td>\n",
       "    </tr>\n",
       "    <tr>\n",
       "      <th>Married-AF-spouse</th>\n",
       "      <td>8</td>\n",
       "      <td>5</td>\n",
       "    </tr>\n",
       "    <tr>\n",
       "      <th>Married-civ-spouse</th>\n",
       "      <td>903</td>\n",
       "      <td>7381</td>\n",
       "    </tr>\n",
       "    <tr>\n",
       "      <th>Married-spouse-absent</th>\n",
       "      <td>194</td>\n",
       "      <td>190</td>\n",
       "    </tr>\n",
       "    <tr>\n",
       "      <th>Never-married</th>\n",
       "      <td>4601</td>\n",
       "      <td>5591</td>\n",
       "    </tr>\n",
       "    <tr>\n",
       "      <th>Separated</th>\n",
       "      <td>614</td>\n",
       "      <td>345</td>\n",
       "    </tr>\n",
       "    <tr>\n",
       "      <th>Widowed</th>\n",
       "      <td>779</td>\n",
       "      <td>129</td>\n",
       "    </tr>\n",
       "    <tr>\n",
       "      <th rowspan=\"7\" valign=\"top\">True</th>\n",
       "      <th>Divorced</th>\n",
       "      <td>179</td>\n",
       "      <td>284</td>\n",
       "    </tr>\n",
       "    <tr>\n",
       "      <th>Married-AF-spouse</th>\n",
       "      <td>6</td>\n",
       "      <td>4</td>\n",
       "    </tr>\n",
       "    <tr>\n",
       "      <th>Married-civ-spouse</th>\n",
       "      <td>754</td>\n",
       "      <td>5938</td>\n",
       "    </tr>\n",
       "    <tr>\n",
       "      <th>Married-spouse-absent</th>\n",
       "      <td>11</td>\n",
       "      <td>23</td>\n",
       "    </tr>\n",
       "    <tr>\n",
       "      <th>Never-married</th>\n",
       "      <td>166</td>\n",
       "      <td>325</td>\n",
       "    </tr>\n",
       "    <tr>\n",
       "      <th>Separated</th>\n",
       "      <td>17</td>\n",
       "      <td>49</td>\n",
       "    </tr>\n",
       "    <tr>\n",
       "      <th>Widowed</th>\n",
       "      <td>46</td>\n",
       "      <td>39</td>\n",
       "    </tr>\n",
       "  </tbody>\n",
       "</table>\n",
       "</div>"
      ],
      "text/plain": [
       "sex                                 Female  Male\n",
       "over_fifty_k marital_status                     \n",
       "False        Divorced                 2493  1487\n",
       "             Married-AF-spouse           8     5\n",
       "             Married-civ-spouse        903  7381\n",
       "             Married-spouse-absent     194   190\n",
       "             Never-married            4601  5591\n",
       "             Separated                 614   345\n",
       "             Widowed                   779   129\n",
       "True         Divorced                  179   284\n",
       "             Married-AF-spouse           6     4\n",
       "             Married-civ-spouse        754  5938\n",
       "             Married-spouse-absent      11    23\n",
       "             Never-married             166   325\n",
       "             Separated                  17    49\n",
       "             Widowed                    46    39"
      ]
     },
     "execution_count": 86,
     "metadata": {},
     "output_type": "execute_result"
    }
   ],
   "source": [
    "_multi_tab.unstack()"
   ]
  },
  {
   "cell_type": "markdown",
   "metadata": {},
   "source": [
    "We can pick which level we pop out, too:"
   ]
  },
  {
   "cell_type": "code",
   "execution_count": 87,
   "metadata": {},
   "outputs": [
    {
     "data": {
      "text/html": [
       "<div>\n",
       "<style scoped>\n",
       "    .dataframe tbody tr th:only-of-type {\n",
       "        vertical-align: middle;\n",
       "    }\n",
       "\n",
       "    .dataframe tbody tr th {\n",
       "        vertical-align: top;\n",
       "    }\n",
       "\n",
       "    .dataframe thead th {\n",
       "        text-align: right;\n",
       "    }\n",
       "</style>\n",
       "<table border=\"1\" class=\"dataframe\">\n",
       "  <thead>\n",
       "    <tr style=\"text-align: right;\">\n",
       "      <th></th>\n",
       "      <th>over_fifty_k</th>\n",
       "      <th>False</th>\n",
       "      <th>True</th>\n",
       "    </tr>\n",
       "    <tr>\n",
       "      <th>marital_status</th>\n",
       "      <th>sex</th>\n",
       "      <th></th>\n",
       "      <th></th>\n",
       "    </tr>\n",
       "  </thead>\n",
       "  <tbody>\n",
       "    <tr>\n",
       "      <th rowspan=\"2\" valign=\"top\">Divorced</th>\n",
       "      <th>Female</th>\n",
       "      <td>2493</td>\n",
       "      <td>179</td>\n",
       "    </tr>\n",
       "    <tr>\n",
       "      <th>Male</th>\n",
       "      <td>1487</td>\n",
       "      <td>284</td>\n",
       "    </tr>\n",
       "    <tr>\n",
       "      <th rowspan=\"2\" valign=\"top\">Married-AF-spouse</th>\n",
       "      <th>Female</th>\n",
       "      <td>8</td>\n",
       "      <td>6</td>\n",
       "    </tr>\n",
       "    <tr>\n",
       "      <th>Male</th>\n",
       "      <td>5</td>\n",
       "      <td>4</td>\n",
       "    </tr>\n",
       "    <tr>\n",
       "      <th rowspan=\"2\" valign=\"top\">Married-civ-spouse</th>\n",
       "      <th>Female</th>\n",
       "      <td>903</td>\n",
       "      <td>754</td>\n",
       "    </tr>\n",
       "    <tr>\n",
       "      <th>Male</th>\n",
       "      <td>7381</td>\n",
       "      <td>5938</td>\n",
       "    </tr>\n",
       "    <tr>\n",
       "      <th rowspan=\"2\" valign=\"top\">Married-spouse-absent</th>\n",
       "      <th>Female</th>\n",
       "      <td>194</td>\n",
       "      <td>11</td>\n",
       "    </tr>\n",
       "    <tr>\n",
       "      <th>Male</th>\n",
       "      <td>190</td>\n",
       "      <td>23</td>\n",
       "    </tr>\n",
       "    <tr>\n",
       "      <th rowspan=\"2\" valign=\"top\">Never-married</th>\n",
       "      <th>Female</th>\n",
       "      <td>4601</td>\n",
       "      <td>166</td>\n",
       "    </tr>\n",
       "    <tr>\n",
       "      <th>Male</th>\n",
       "      <td>5591</td>\n",
       "      <td>325</td>\n",
       "    </tr>\n",
       "    <tr>\n",
       "      <th rowspan=\"2\" valign=\"top\">Separated</th>\n",
       "      <th>Female</th>\n",
       "      <td>614</td>\n",
       "      <td>17</td>\n",
       "    </tr>\n",
       "    <tr>\n",
       "      <th>Male</th>\n",
       "      <td>345</td>\n",
       "      <td>49</td>\n",
       "    </tr>\n",
       "    <tr>\n",
       "      <th rowspan=\"2\" valign=\"top\">Widowed</th>\n",
       "      <th>Female</th>\n",
       "      <td>779</td>\n",
       "      <td>46</td>\n",
       "    </tr>\n",
       "    <tr>\n",
       "      <th>Male</th>\n",
       "      <td>129</td>\n",
       "      <td>39</td>\n",
       "    </tr>\n",
       "  </tbody>\n",
       "</table>\n",
       "</div>"
      ],
      "text/plain": [
       "over_fifty_k                  False  True \n",
       "marital_status        sex                 \n",
       "Divorced              Female   2493    179\n",
       "                      Male     1487    284\n",
       "Married-AF-spouse     Female      8      6\n",
       "                      Male        5      4\n",
       "Married-civ-spouse    Female    903    754\n",
       "                      Male     7381   5938\n",
       "Married-spouse-absent Female    194     11\n",
       "                      Male      190     23\n",
       "Never-married         Female   4601    166\n",
       "                      Male     5591    325\n",
       "Separated             Female    614     17\n",
       "                      Male      345     49\n",
       "Widowed               Female    779     46\n",
       "                      Male      129     39"
      ]
     },
     "execution_count": 87,
     "metadata": {},
     "output_type": "execute_result"
    }
   ],
   "source": [
    "_multi_tab.unstack(0)"
   ]
  },
  {
   "cell_type": "markdown",
   "metadata": {},
   "source": [
    "And if we'd like to pop it back in:"
   ]
  },
  {
   "cell_type": "code",
   "execution_count": 88,
   "metadata": {},
   "outputs": [
    {
     "data": {
      "text/plain": [
       "marital_status         sex     over_fifty_k\n",
       "Divorced               Female  False           2493\n",
       "                               True             179\n",
       "                       Male    False           1487\n",
       "                               True             284\n",
       "Married-AF-spouse      Female  False              8\n",
       "                               True               6\n",
       "                       Male    False              5\n",
       "                               True               4\n",
       "Married-civ-spouse     Female  False            903\n",
       "                               True             754\n",
       "                       Male    False           7381\n",
       "                               True            5938\n",
       "Married-spouse-absent  Female  False            194\n",
       "                               True              11\n",
       "                       Male    False            190\n",
       "                               True              23\n",
       "Never-married          Female  False           4601\n",
       "                               True             166\n",
       "                       Male    False           5591\n",
       "                               True             325\n",
       "Separated              Female  False            614\n",
       "                               True              17\n",
       "                       Male    False            345\n",
       "                               True              49\n",
       "Widowed                Female  False            779\n",
       "                               True              46\n",
       "                       Male    False            129\n",
       "                               True              39\n",
       "dtype: int64"
      ]
     },
     "execution_count": 88,
     "metadata": {},
     "output_type": "execute_result"
    }
   ],
   "source": [
    "_multi_tab.unstack(0).stack()"
   ]
  },
  {
   "cell_type": "markdown",
   "metadata": {},
   "source": [
    "So, we could do this _all_ day (for many, many days...), but let's move on to feature selection. Before we go..."
   ]
  },
  {
   "cell_type": "markdown",
   "metadata": {},
   "source": [
    "### Problem\n",
    "\n",
    "Think about the analyses we've performed and whether you wish we'd given any of them more time. Think about some more columns you might engineer out of the data we've got, and add _at least two_ new columns to `table`."
   ]
  },
  {
   "cell_type": "markdown",
   "metadata": {},
   "source": [
    "# 3. Feature Selection\n",
    "\n",
    "Choosing the right set of features can bring many benefits.\n",
    "\n",
    "Some models don't work well with redundancy, so you'll want to choose features that are not too inter-related. Sometimes you'll _want_ to over-emphasize features that are particularly important, or create additional relationships between features whose sum are greater than their parts, in the figurative sense.\n",
    "\n",
    "Additionally, some datasets contain many, many columns, and reducing the amount of inputs to your model can drastically reduce the time it takes to prep your data and train your model. \n",
    "\n",
    "The benefits go on. In this case, we have a pretty simple feature set, but it will still help us to get a sense of what's the most predictive, what has the most overlap with what we've already got, etc.\n",
    "\n",
    "It should be noted that, when developing predictive models, you always need to be careful to _not base your performance benchmarks off of what you're training your models on_, and that goes even for feature selection - it's one thing to look at the entire dataset when you're exploring and looking for problems, but it's another to be programmatically making decisions around what to include in a model.\n",
    "\n",
    "So we will start by taking 10% of our data out and putting on the back burner - only for use at the _very_ end, once we've already _decided_ what our model and feature set are. We will take this 10% out _randomly_ and with respect to the _natural stratification_ of our target's (what we're trying to predict - `over_fifty_k`) classes (`True`, `False`)."
   ]
  },
  {
   "cell_type": "code",
   "execution_count": 89,
   "metadata": {},
   "outputs": [],
   "source": [
    "train_inds, test_inds = train_test_split(\n",
    "    table.index, test_size=.1, stratify=table.over_fifty_k)"
   ]
  },
  {
   "cell_type": "code",
   "execution_count": 90,
   "metadata": {},
   "outputs": [],
   "source": [
    "table_train = table.loc[train_inds, \n",
    "            [c for c in table.columns if c != \"over_fifty_k\"]]"
   ]
  },
  {
   "cell_type": "code",
   "execution_count": 91,
   "metadata": {},
   "outputs": [],
   "source": [
    "fifty_k_train = table.loc[train_inds, \"over_fifty_k\"]"
   ]
  },
  {
   "cell_type": "markdown",
   "metadata": {},
   "source": [
    "### Feature redundancy\n",
    "\n",
    "Let's start with looking at feature redundancy. There are many ways to do this, and one thing I did recently was to leverage _Euclidean distance_, which, between two vectors $p$ and $q$ is $\\sqrt{ \\sum_{i}^n (q_{i} - p_{i})^2}$\n",
    "\n",
    "See more [here](https://en.wikipedia.org/wiki/Euclidean_distance). \n",
    "\n",
    "I wrote my own function for this recently, and I thought we could try it out, even if only for conceptual purposes. The way this function works is: you pass it a DataFrame, and a selection of columns, and it computes pairwise distances between all the columns:"
   ]
  },
  {
   "cell_type": "code",
   "execution_count": 94,
   "metadata": {},
   "outputs": [],
   "source": [
    "euclideans = wrangle.euclidean_distances(table_train, \n",
    "                                         table_train.select_dtypes(include=[int, float, bool]).columns)"
   ]
  },
  {
   "cell_type": "code",
   "execution_count": 95,
   "metadata": {
    "scrolled": true
   },
   "outputs": [
    {
     "data": {
      "text/plain": [
       "(36, 1)"
      ]
     },
     "execution_count": 95,
     "metadata": {},
     "output_type": "execute_result"
    }
   ],
   "source": [
    "euclideans.shape"
   ]
  },
  {
   "cell_type": "code",
   "execution_count": 96,
   "metadata": {
    "scrolled": true
   },
   "outputs": [
    {
     "data": {
      "text/html": [
       "<div>\n",
       "<style scoped>\n",
       "    .dataframe tbody tr th:only-of-type {\n",
       "        vertical-align: middle;\n",
       "    }\n",
       "\n",
       "    .dataframe tbody tr th {\n",
       "        vertical-align: top;\n",
       "    }\n",
       "\n",
       "    .dataframe thead th {\n",
       "        text-align: right;\n",
       "    }\n",
       "</style>\n",
       "<table border=\"1\" class=\"dataframe\">\n",
       "  <thead>\n",
       "    <tr style=\"text-align: right;\">\n",
       "      <th></th>\n",
       "      <th>euclidean_distances</th>\n",
       "    </tr>\n",
       "  </thead>\n",
       "  <tbody>\n",
       "    <tr>\n",
       "      <th>count</th>\n",
       "      <td>36.000000</td>\n",
       "    </tr>\n",
       "    <tr>\n",
       "      <th>mean</th>\n",
       "      <td>49.384305</td>\n",
       "    </tr>\n",
       "    <tr>\n",
       "      <th>std</th>\n",
       "      <td>23.513653</td>\n",
       "    </tr>\n",
       "    <tr>\n",
       "      <th>min</th>\n",
       "      <td>6.974706</td>\n",
       "    </tr>\n",
       "    <tr>\n",
       "      <th>25%</th>\n",
       "      <td>26.333037</td>\n",
       "    </tr>\n",
       "    <tr>\n",
       "      <th>50%</th>\n",
       "      <td>50.853531</td>\n",
       "    </tr>\n",
       "    <tr>\n",
       "      <th>75%</th>\n",
       "      <td>69.746311</td>\n",
       "    </tr>\n",
       "    <tr>\n",
       "      <th>max</th>\n",
       "      <td>85.967754</td>\n",
       "    </tr>\n",
       "  </tbody>\n",
       "</table>\n",
       "</div>"
      ],
      "text/plain": [
       "       euclidean_distances\n",
       "count            36.000000\n",
       "mean             49.384305\n",
       "std              23.513653\n",
       "min               6.974706\n",
       "25%              26.333037\n",
       "50%              50.853531\n",
       "75%              69.746311\n",
       "max              85.967754"
      ]
     },
     "execution_count": 96,
     "metadata": {},
     "output_type": "execute_result"
    }
   ],
   "source": [
    "euclideans.describe()"
   ]
  },
  {
   "cell_type": "markdown",
   "metadata": {},
   "source": [
    "Since we have a bit of dispersion here, let's take a cut of the results a bit above the mean and take everything below that:"
   ]
  },
  {
   "cell_type": "code",
   "execution_count": 97,
   "metadata": {},
   "outputs": [
    {
     "data": {
      "text/html": [
       "<div>\n",
       "<style scoped>\n",
       "    .dataframe tbody tr th:only-of-type {\n",
       "        vertical-align: middle;\n",
       "    }\n",
       "\n",
       "    .dataframe tbody tr th {\n",
       "        vertical-align: top;\n",
       "    }\n",
       "\n",
       "    .dataframe thead th {\n",
       "        text-align: right;\n",
       "    }\n",
       "</style>\n",
       "<table border=\"1\" class=\"dataframe\">\n",
       "  <thead>\n",
       "    <tr style=\"text-align: right;\">\n",
       "      <th></th>\n",
       "      <th></th>\n",
       "      <th>euclidean_distances</th>\n",
       "    </tr>\n",
       "    <tr>\n",
       "      <th>feature_one</th>\n",
       "      <th>feature_two</th>\n",
       "      <th></th>\n",
       "    </tr>\n",
       "  </thead>\n",
       "  <tbody>\n",
       "    <tr>\n",
       "      <th rowspan=\"3\" valign=\"top\">age</th>\n",
       "      <th>is_capital_loss_nonzero</th>\n",
       "      <td>59.799152</td>\n",
       "    </tr>\n",
       "    <tr>\n",
       "      <th>capital_gain</th>\n",
       "      <td>59.082216</td>\n",
       "    </tr>\n",
       "    <tr>\n",
       "      <th>capital_loss</th>\n",
       "      <td>58.575348</td>\n",
       "    </tr>\n",
       "    <tr>\n",
       "      <th>fnlwgt</th>\n",
       "      <th>hours_per_week</th>\n",
       "      <td>54.371493</td>\n",
       "    </tr>\n",
       "    <tr>\n",
       "      <th>age</th>\n",
       "      <th>capital_gain_net</th>\n",
       "      <td>53.453675</td>\n",
       "    </tr>\n",
       "    <tr>\n",
       "      <th>capital_loss</th>\n",
       "      <th>is_capital_gain_nonzero</th>\n",
       "      <td>52.149016</td>\n",
       "    </tr>\n",
       "    <tr>\n",
       "      <th>is_capital_gain_nonzero</th>\n",
       "      <th>is_capital_loss_nonzero</th>\n",
       "      <td>49.558047</td>\n",
       "    </tr>\n",
       "    <tr>\n",
       "      <th>fnlwgt</th>\n",
       "      <th>is_capital_gain_nonzero</th>\n",
       "      <td>49.457485</td>\n",
       "    </tr>\n",
       "    <tr>\n",
       "      <th>age</th>\n",
       "      <th>fnlwgt</th>\n",
       "      <td>46.099179</td>\n",
       "    </tr>\n",
       "    <tr>\n",
       "      <th>capital_gain</th>\n",
       "      <th>is_capital_gain_nonzero</th>\n",
       "      <td>44.555005</td>\n",
       "    </tr>\n",
       "    <tr>\n",
       "      <th>capital_gain_net</th>\n",
       "      <th>is_capital_gain_nonzero</th>\n",
       "      <td>43.221133</td>\n",
       "    </tr>\n",
       "    <tr>\n",
       "      <th>age</th>\n",
       "      <th>hours_per_week</th>\n",
       "      <td>41.575635</td>\n",
       "    </tr>\n",
       "    <tr>\n",
       "      <th>hours_per_week</th>\n",
       "      <th>age_log</th>\n",
       "      <td>41.032776</td>\n",
       "    </tr>\n",
       "    <tr>\n",
       "      <th>age</th>\n",
       "      <th>age_log</th>\n",
       "      <td>28.360136</td>\n",
       "    </tr>\n",
       "    <tr>\n",
       "      <th rowspan=\"3\" valign=\"top\">fnlwgt</th>\n",
       "      <th>capital_loss</th>\n",
       "      <td>26.504865</td>\n",
       "    </tr>\n",
       "    <tr>\n",
       "      <th>capital_gain</th>\n",
       "      <td>25.817554</td>\n",
       "    </tr>\n",
       "    <tr>\n",
       "      <th>is_capital_loss_nonzero</th>\n",
       "      <td>24.011659</td>\n",
       "    </tr>\n",
       "    <tr>\n",
       "      <th>capital_loss</th>\n",
       "      <th>capital_gain_net</th>\n",
       "      <td>21.556189</td>\n",
       "    </tr>\n",
       "    <tr>\n",
       "      <th>fnlwgt</th>\n",
       "      <th>capital_gain_net</th>\n",
       "      <td>21.020020</td>\n",
       "    </tr>\n",
       "    <tr>\n",
       "      <th>capital_gain</th>\n",
       "      <th>capital_loss</th>\n",
       "      <td>20.748236</td>\n",
       "    </tr>\n",
       "    <tr>\n",
       "      <th>capital_loss</th>\n",
       "      <th>is_capital_loss_nonzero</th>\n",
       "      <td>16.233294</td>\n",
       "    </tr>\n",
       "    <tr>\n",
       "      <th>capital_gain_net</th>\n",
       "      <th>is_capital_loss_nonzero</th>\n",
       "      <td>15.109621</td>\n",
       "    </tr>\n",
       "    <tr>\n",
       "      <th rowspan=\"2\" valign=\"top\">capital_gain</th>\n",
       "      <th>is_capital_loss_nonzero</th>\n",
       "      <td>12.921666</td>\n",
       "    </tr>\n",
       "    <tr>\n",
       "      <th>capital_gain_net</th>\n",
       "      <td>6.974706</td>\n",
       "    </tr>\n",
       "  </tbody>\n",
       "</table>\n",
       "</div>"
      ],
      "text/plain": [
       "                                                 euclidean_distances\n",
       "feature_one             feature_two                                 \n",
       "age                     is_capital_loss_nonzero            59.799152\n",
       "                        capital_gain                       59.082216\n",
       "                        capital_loss                       58.575348\n",
       "fnlwgt                  hours_per_week                     54.371493\n",
       "age                     capital_gain_net                   53.453675\n",
       "capital_loss            is_capital_gain_nonzero            52.149016\n",
       "is_capital_gain_nonzero is_capital_loss_nonzero            49.558047\n",
       "fnlwgt                  is_capital_gain_nonzero            49.457485\n",
       "age                     fnlwgt                             46.099179\n",
       "capital_gain            is_capital_gain_nonzero            44.555005\n",
       "capital_gain_net        is_capital_gain_nonzero            43.221133\n",
       "age                     hours_per_week                     41.575635\n",
       "hours_per_week          age_log                            41.032776\n",
       "age                     age_log                            28.360136\n",
       "fnlwgt                  capital_loss                       26.504865\n",
       "                        capital_gain                       25.817554\n",
       "                        is_capital_loss_nonzero            24.011659\n",
       "capital_loss            capital_gain_net                   21.556189\n",
       "fnlwgt                  capital_gain_net                   21.020020\n",
       "capital_gain            capital_loss                       20.748236\n",
       "capital_loss            is_capital_loss_nonzero            16.233294\n",
       "capital_gain_net        is_capital_loss_nonzero            15.109621\n",
       "capital_gain            is_capital_loss_nonzero            12.921666\n",
       "                        capital_gain_net                    6.974706"
      ]
     },
     "execution_count": 97,
     "metadata": {},
     "output_type": "execute_result"
    }
   ],
   "source": [
    "euclideans[euclideans.euclidean_distances < 60]"
   ]
  },
  {
   "cell_type": "markdown",
   "metadata": {},
   "source": [
    "Let's get a nice, pairwise view of everything under 50:"
   ]
  },
  {
   "cell_type": "code",
   "execution_count": 98,
   "metadata": {},
   "outputs": [
    {
     "data": {
      "text/plain": [
       "[('is_capital_gain_nonzero', 'is_capital_loss_nonzero'),\n",
       " ('fnlwgt', 'is_capital_gain_nonzero'),\n",
       " ('age', 'fnlwgt'),\n",
       " ('capital_gain', 'is_capital_gain_nonzero'),\n",
       " ('capital_gain_net', 'is_capital_gain_nonzero'),\n",
       " ('age', 'hours_per_week'),\n",
       " ('hours_per_week', 'age_log'),\n",
       " ('age', 'age_log'),\n",
       " ('fnlwgt', 'capital_loss'),\n",
       " ('fnlwgt', 'capital_gain'),\n",
       " ('fnlwgt', 'is_capital_loss_nonzero'),\n",
       " ('capital_loss', 'capital_gain_net'),\n",
       " ('fnlwgt', 'capital_gain_net'),\n",
       " ('capital_gain', 'capital_loss'),\n",
       " ('capital_loss', 'is_capital_loss_nonzero'),\n",
       " ('capital_gain_net', 'is_capital_loss_nonzero'),\n",
       " ('capital_gain', 'is_capital_loss_nonzero'),\n",
       " ('capital_gain', 'capital_gain_net')]"
      ]
     },
     "execution_count": 98,
     "metadata": {},
     "output_type": "execute_result"
    }
   ],
   "source": [
    "list(euclideans[euclideans.euclidean_distances < 50].index)"
   ]
  },
  {
   "cell_type": "markdown",
   "metadata": {},
   "source": [
    "Based on this analysis, I'd definitely consider killing:\n",
    "- `capital_gain`\n",
    "- `capital_loss`\n",
    "- either `age` or `age_log`\n",
    "- the boolean re-representations of `capital_loss`\n",
    "- `fnlwgt`\n",
    "\n",
    "Interestingly, `capital_gain` and `is_capital_gain_nonzero` were only about average in their differences.\n",
    "\n",
    "`fnlwgt` is a statistical demographic measure, so it obviously shows up as related to a number of features. It seems close enough to `capital_gain_net` that I would kill it for now, especially since we don't really know what it is ;)\n",
    "\n",
    "We can always add these columns back in later."
   ]
  },
  {
   "cell_type": "code",
   "execution_count": 99,
   "metadata": {},
   "outputs": [],
   "source": [
    "table_train = table_train.drop([\"capital_gain\", \"capital_loss\", \"age_log\",\n",
    "                               \"is_capital_loss_nonzero\", \"fnlwgt\"], axis=1)"
   ]
  },
  {
   "cell_type": "markdown",
   "metadata": {},
   "source": [
    "### Feature Selection\n",
    "\n",
    "Now, let's get into picking the _good_ features. \n",
    "\n",
    "To do this, we're going to need to do a little data prep. This data prep entails _one-hot_ (or _dummy_) encoding our `object` columns. \n",
    "\n",
    "What this type of encoding does is take a single column of categorical data and convert it into a number of columns - as many columns as there are values for the categorical variable - with only boolean values, representing whether or not a given row takes a particular categorical value.\n",
    "\n",
    "Let's look at an example:"
   ]
  },
  {
   "cell_type": "code",
   "execution_count": 100,
   "metadata": {},
   "outputs": [
    {
     "data": {
      "text/plain": [
       "1327     Female\n",
       "14881      Male\n",
       "28458      Male\n",
       "29641    Female\n",
       "3779       Male\n",
       "Name: sex, dtype: object"
      ]
     },
     "execution_count": 100,
     "metadata": {},
     "output_type": "execute_result"
    }
   ],
   "source": [
    "table_train.sex.head()"
   ]
  },
  {
   "cell_type": "code",
   "execution_count": 101,
   "metadata": {},
   "outputs": [
    {
     "data": {
      "text/html": [
       "<div>\n",
       "<style scoped>\n",
       "    .dataframe tbody tr th:only-of-type {\n",
       "        vertical-align: middle;\n",
       "    }\n",
       "\n",
       "    .dataframe tbody tr th {\n",
       "        vertical-align: top;\n",
       "    }\n",
       "\n",
       "    .dataframe thead th {\n",
       "        text-align: right;\n",
       "    }\n",
       "</style>\n",
       "<table border=\"1\" class=\"dataframe\">\n",
       "  <thead>\n",
       "    <tr style=\"text-align: right;\">\n",
       "      <th></th>\n",
       "      <th>Female</th>\n",
       "      <th>Male</th>\n",
       "    </tr>\n",
       "  </thead>\n",
       "  <tbody>\n",
       "    <tr>\n",
       "      <th>1327</th>\n",
       "      <td>1</td>\n",
       "      <td>0</td>\n",
       "    </tr>\n",
       "    <tr>\n",
       "      <th>14881</th>\n",
       "      <td>0</td>\n",
       "      <td>1</td>\n",
       "    </tr>\n",
       "    <tr>\n",
       "      <th>28458</th>\n",
       "      <td>0</td>\n",
       "      <td>1</td>\n",
       "    </tr>\n",
       "    <tr>\n",
       "      <th>29641</th>\n",
       "      <td>1</td>\n",
       "      <td>0</td>\n",
       "    </tr>\n",
       "    <tr>\n",
       "      <th>3779</th>\n",
       "      <td>0</td>\n",
       "      <td>1</td>\n",
       "    </tr>\n",
       "  </tbody>\n",
       "</table>\n",
       "</div>"
      ],
      "text/plain": [
       "       Female  Male\n",
       "1327        1     0\n",
       "14881       0     1\n",
       "28458       0     1\n",
       "29641       1     0\n",
       "3779        0     1"
      ]
     },
     "execution_count": 101,
     "metadata": {},
     "output_type": "execute_result"
    }
   ],
   "source": [
    "pd.get_dummies(table_train.sex.head())"
   ]
  },
  {
   "cell_type": "markdown",
   "metadata": {},
   "source": [
    "So instead of five rows, each containing `\"Female`\" or `\"Male\"` we now have five rows, each containing a `1` in the `Male` and `0` in the `Female` column if `sex=\"Male\"`, or v.v. if  `sex=\"Female\"`.\n",
    "\n",
    "Note that there does not have to be mutual exclusivity between the columns that result from a one-hot encoding. If there _is_ mutual exlusivity, it is good practice to drop one of your resulting columns, lest you introduce some redundancy into your feature set. E.g. we wouldn't want to represent `over_fifty_k` with two columns `over_fifty_k` and `equal_to_or_under_fifty_k`, right?\n",
    "\n",
    "In this case, we're going to quickly iterate through each `object` column, perform the encoding, and drop one of the resulting columns, for the sake of brevity (rather than really think on each column). We're also going to prefix each of our resulting columns with the name of the column that the value originall came from, to avoid possible name collisions:"
   ]
  },
  {
   "cell_type": "code",
   "execution_count": 102,
   "metadata": {},
   "outputs": [],
   "source": [
    "_one_hots = [pd.get_dummies(\n",
    "                table_train[col], drop_first=True, prefix=col)\n",
    "             for col in table_train.select_dtypes(include=object\n",
    "                                                 ).columns]"
   ]
  },
  {
   "cell_type": "code",
   "execution_count": 103,
   "metadata": {},
   "outputs": [
    {
     "data": {
      "text/html": [
       "<div>\n",
       "<style scoped>\n",
       "    .dataframe tbody tr th:only-of-type {\n",
       "        vertical-align: middle;\n",
       "    }\n",
       "\n",
       "    .dataframe tbody tr th {\n",
       "        vertical-align: top;\n",
       "    }\n",
       "\n",
       "    .dataframe thead th {\n",
       "        text-align: right;\n",
       "    }\n",
       "</style>\n",
       "<table border=\"1\" class=\"dataframe\">\n",
       "  <thead>\n",
       "    <tr style=\"text-align: right;\">\n",
       "      <th></th>\n",
       "      <th>workclass_Federal-gov</th>\n",
       "      <th>workclass_Local-gov</th>\n",
       "      <th>workclass_Never-worked</th>\n",
       "    </tr>\n",
       "  </thead>\n",
       "  <tbody>\n",
       "    <tr>\n",
       "      <th>1327</th>\n",
       "      <td>0</td>\n",
       "      <td>0</td>\n",
       "      <td>0</td>\n",
       "    </tr>\n",
       "    <tr>\n",
       "      <th>14881</th>\n",
       "      <td>0</td>\n",
       "      <td>0</td>\n",
       "      <td>0</td>\n",
       "    </tr>\n",
       "    <tr>\n",
       "      <th>28458</th>\n",
       "      <td>0</td>\n",
       "      <td>0</td>\n",
       "      <td>0</td>\n",
       "    </tr>\n",
       "  </tbody>\n",
       "</table>\n",
       "</div>"
      ],
      "text/plain": [
       "       workclass_Federal-gov  workclass_Local-gov  workclass_Never-worked\n",
       "1327                       0                    0                       0\n",
       "14881                      0                    0                       0\n",
       "28458                      0                    0                       0"
      ]
     },
     "execution_count": 103,
     "metadata": {},
     "output_type": "execute_result"
    }
   ],
   "source": [
    "_one_hots[0].iloc[:3, :3]"
   ]
  },
  {
   "cell_type": "code",
   "execution_count": 104,
   "metadata": {},
   "outputs": [],
   "source": [
    "one_hot_df = _one_hots[0].join(_one_hots[1:])"
   ]
  },
  {
   "cell_type": "code",
   "execution_count": 105,
   "metadata": {},
   "outputs": [
    {
     "data": {
      "text/plain": [
       "(29304, 94)"
      ]
     },
     "execution_count": 105,
     "metadata": {},
     "output_type": "execute_result"
    }
   ],
   "source": [
    "one_hot_df.shape"
   ]
  },
  {
   "cell_type": "markdown",
   "metadata": {},
   "source": [
    "Now we can create our $X$ and $y$:"
   ]
  },
  {
   "cell_type": "code",
   "execution_count": 110,
   "metadata": {},
   "outputs": [],
   "source": [
    "X = one_hot_df.join(table_train.select_dtypes(\n",
    "                        include=[int, float, bool]))"
   ]
  },
  {
   "cell_type": "code",
   "execution_count": 111,
   "metadata": {},
   "outputs": [
    {
     "data": {
      "text/plain": [
       "(29304, 98)"
      ]
     },
     "execution_count": 111,
     "metadata": {},
     "output_type": "execute_result"
    }
   ],
   "source": [
    "X.shape"
   ]
  },
  {
   "cell_type": "code",
   "execution_count": 112,
   "metadata": {
    "scrolled": true
   },
   "outputs": [
    {
     "data": {
      "text/plain": [
       "object    8\n",
       "int64     3\n",
       "bool      1\n",
       "dtype: int64"
      ]
     },
     "execution_count": 112,
     "metadata": {},
     "output_type": "execute_result"
    }
   ],
   "source": [
    "table_train.dtypes.value_counts()"
   ]
  },
  {
   "cell_type": "code",
   "execution_count": 113,
   "metadata": {},
   "outputs": [],
   "source": [
    "y = fifty_k_train"
   ]
  },
  {
   "cell_type": "markdown",
   "metadata": {},
   "source": [
    "Next, we're going to create a _Random Forest Classifier_. What's that mean? Let's break it down.\n",
    "\n",
    "A _Decision Tree_ is a model that builds a series of rules, kind of like the game _twenty questions_. E.g is `age` >= 15? It typically does this repeatedly until it either:\n",
    "- has created a number of _pure_ (or close to it) \"leaves\" such that a given data point can be propogated through the tree and to a point where only data of a certain label or value would get it\n",
    "- it hits some internal cutoff around tree depth or the number of items that make it to a leaf\n",
    "\n",
    "So what's a _Random Forest_, then? You build a whole bunch of decision trees, such that each tree is a little bit different, and take the average across all these tree's votes to produce your final prediction. Why do you do this? To prevent something called _overfitting_. Overfitting occurs when a model has coupled itself so tightly to the data it was trained on that it loses its ability to generalize to new data.\n",
    "\n",
    "It's worth noting that random forests are models for which it's desirability to limit redundancy in your features, as redundant features will limit the effectiveness of creating a number of different trees.\n",
    "\n",
    "So, what's a Random Forest _Classifier_, then? A classifier is just a model that predicts a class or label, as opposed to a numerical value - i.e. it's built for predicting categorical values.\n",
    "\n",
    "We'll also set this forest to build 10 trees (in practice, it's generally good to use 100), and pass another argument for `class_weight`, which we'll get to in a bit:"
   ]
  },
  {
   "cell_type": "code",
   "execution_count": 114,
   "metadata": {},
   "outputs": [],
   "source": [
    "rf = RandomForestClassifier(n_estimators=10, class_weight=\"balanced\")"
   ]
  },
  {
   "cell_type": "markdown",
   "metadata": {},
   "source": [
    "Now, we'll use something called the _recursive feature eliminator_, which will repeatedly check for the weakest feature in the model and eliminate it from use, and will repeat this process _recursively_ until it's hit the number of features you've asked it to find:"
   ]
  },
  {
   "cell_type": "code",
   "execution_count": 115,
   "metadata": {},
   "outputs": [],
   "source": [
    "selector = RFE(rf, 10)"
   ]
  },
  {
   "cell_type": "code",
   "execution_count": 116,
   "metadata": {},
   "outputs": [
    {
     "data": {
      "text/plain": [
       "RFE(estimator=RandomForestClassifier(bootstrap=True, class_weight='balanced',\n",
       "            criterion='gini', max_depth=None, max_features='auto',\n",
       "            max_leaf_nodes=None, min_impurity_decrease=0.0,\n",
       "            min_impurity_split=None, min_samples_leaf=1,\n",
       "            min_samples_split=2, min_weight_fraction_leaf=0.0,\n",
       "            n_estimators=10, n_jobs=None, oob_score=False,\n",
       "            random_state=None, verbose=0, warm_start=False),\n",
       "  n_features_to_select=10, step=1, verbose=0)"
      ]
     },
     "execution_count": 116,
     "metadata": {},
     "output_type": "execute_result"
    }
   ],
   "source": [
    "selector.fit(X, y)"
   ]
  },
  {
   "cell_type": "markdown",
   "metadata": {},
   "source": [
    "These are the top 10 columns that were selected:"
   ]
  },
  {
   "cell_type": "code",
   "execution_count": 117,
   "metadata": {},
   "outputs": [
    {
     "data": {
      "text/plain": [
       "['age',\n",
       " 'capital_gain_net',\n",
       " 'education_Bachelors',\n",
       " 'hours_per_week',\n",
       " 'marital_status_Married-civ-spouse',\n",
       " 'marital_status_Never-married',\n",
       " 'occupation_Exec-managerial',\n",
       " 'occupation_Prof-specialty',\n",
       " 'relationship_Not-in-family',\n",
       " 'sex_Male']"
      ]
     },
     "execution_count": 117,
     "metadata": {},
     "output_type": "execute_result"
    }
   ],
   "source": [
    "sorted(list(X.columns[selector.support_]))"
   ]
  },
  {
   "cell_type": "code",
   "execution_count": 118,
   "metadata": {},
   "outputs": [],
   "source": [
    "ranks = pd.DataFrame(\n",
    "    list(zip(X.columns, selector.ranking_)), \n",
    "    columns=[\"column_name\", \"rank_survived_until\"]\n",
    "                     ).sort_values(\"rank_survived_until\")"
   ]
  },
  {
   "cell_type": "markdown",
   "metadata": {},
   "source": [
    "Let's look at the next 10:"
   ]
  },
  {
   "cell_type": "code",
   "execution_count": 119,
   "metadata": {},
   "outputs": [
    {
     "data": {
      "text/html": [
       "<div>\n",
       "<style scoped>\n",
       "    .dataframe tbody tr th:only-of-type {\n",
       "        vertical-align: middle;\n",
       "    }\n",
       "\n",
       "    .dataframe tbody tr th {\n",
       "        vertical-align: top;\n",
       "    }\n",
       "\n",
       "    .dataframe thead th {\n",
       "        text-align: right;\n",
       "    }\n",
       "</style>\n",
       "<table border=\"1\" class=\"dataframe\">\n",
       "  <thead>\n",
       "    <tr style=\"text-align: right;\">\n",
       "      <th></th>\n",
       "      <th>column_name</th>\n",
       "      <th>rank_survived_until</th>\n",
       "    </tr>\n",
       "  </thead>\n",
       "  <tbody>\n",
       "    <tr>\n",
       "      <th>97</th>\n",
       "      <td>is_capital_gain_nonzero</td>\n",
       "      <td>2</td>\n",
       "    </tr>\n",
       "    <tr>\n",
       "      <th>19</th>\n",
       "      <td>education_Masters</td>\n",
       "      <td>3</td>\n",
       "    </tr>\n",
       "    <tr>\n",
       "      <th>3</th>\n",
       "      <td>workclass_Private</td>\n",
       "      <td>4</td>\n",
       "    </tr>\n",
       "    <tr>\n",
       "      <th>18</th>\n",
       "      <td>education_HS-grad</td>\n",
       "      <td>5</td>\n",
       "    </tr>\n",
       "    <tr>\n",
       "      <th>51</th>\n",
       "      <td>race_White</td>\n",
       "      <td>6</td>\n",
       "    </tr>\n",
       "    <tr>\n",
       "      <th>22</th>\n",
       "      <td>education_Some-college</td>\n",
       "      <td>7</td>\n",
       "    </tr>\n",
       "    <tr>\n",
       "      <th>36</th>\n",
       "      <td>occupation_Other-service</td>\n",
       "      <td>8</td>\n",
       "    </tr>\n",
       "    <tr>\n",
       "      <th>46</th>\n",
       "      <td>relationship_Unmarried</td>\n",
       "      <td>9</td>\n",
       "    </tr>\n",
       "    <tr>\n",
       "      <th>91</th>\n",
       "      <td>native_country_United-States</td>\n",
       "      <td>10</td>\n",
       "    </tr>\n",
       "    <tr>\n",
       "      <th>40</th>\n",
       "      <td>occupation_Sales</td>\n",
       "      <td>11</td>\n",
       "    </tr>\n",
       "  </tbody>\n",
       "</table>\n",
       "</div>"
      ],
      "text/plain": [
       "                     column_name  rank_survived_until\n",
       "97       is_capital_gain_nonzero                    2\n",
       "19             education_Masters                    3\n",
       "3              workclass_Private                    4\n",
       "18             education_HS-grad                    5\n",
       "51                    race_White                    6\n",
       "22        education_Some-college                    7\n",
       "36      occupation_Other-service                    8\n",
       "46        relationship_Unmarried                    9\n",
       "91  native_country_United-States                   10\n",
       "40              occupation_Sales                   11"
      ]
     },
     "execution_count": 119,
     "metadata": {},
     "output_type": "execute_result"
    }
   ],
   "source": [
    "ranks.iloc[10:20]"
   ]
  },
  {
   "cell_type": "markdown",
   "metadata": {},
   "source": [
    "Let's look at the 10 worst:"
   ]
  },
  {
   "cell_type": "code",
   "execution_count": 120,
   "metadata": {},
   "outputs": [
    {
     "data": {
      "text/html": [
       "<div>\n",
       "<style scoped>\n",
       "    .dataframe tbody tr th:only-of-type {\n",
       "        vertical-align: middle;\n",
       "    }\n",
       "\n",
       "    .dataframe tbody tr th {\n",
       "        vertical-align: top;\n",
       "    }\n",
       "\n",
       "    .dataframe thead th {\n",
       "        text-align: right;\n",
       "    }\n",
       "</style>\n",
       "<table border=\"1\" class=\"dataframe\">\n",
       "  <thead>\n",
       "    <tr style=\"text-align: right;\">\n",
       "      <th></th>\n",
       "      <th>column_name</th>\n",
       "      <th>rank_survived_until</th>\n",
       "    </tr>\n",
       "  </thead>\n",
       "  <tbody>\n",
       "    <tr>\n",
       "      <th>90</th>\n",
       "      <td>native_country_Trinadad&amp;Tobago</td>\n",
       "      <td>80</td>\n",
       "    </tr>\n",
       "    <tr>\n",
       "      <th>77</th>\n",
       "      <td>native_country_Laos</td>\n",
       "      <td>81</td>\n",
       "    </tr>\n",
       "    <tr>\n",
       "      <th>80</th>\n",
       "      <td>native_country_Outlying-US(Guam-USVI-etc)</td>\n",
       "      <td>82</td>\n",
       "    </tr>\n",
       "    <tr>\n",
       "      <th>86</th>\n",
       "      <td>native_country_Scotland</td>\n",
       "      <td>83</td>\n",
       "    </tr>\n",
       "    <tr>\n",
       "      <th>7</th>\n",
       "      <td>workclass_Without-pay</td>\n",
       "      <td>84</td>\n",
       "    </tr>\n",
       "    <tr>\n",
       "      <th>89</th>\n",
       "      <td>native_country_Thailand</td>\n",
       "      <td>85</td>\n",
       "    </tr>\n",
       "    <tr>\n",
       "      <th>30</th>\n",
       "      <td>occupation_Armed-Forces</td>\n",
       "      <td>86</td>\n",
       "    </tr>\n",
       "    <tr>\n",
       "      <th>68</th>\n",
       "      <td>native_country_Honduras</td>\n",
       "      <td>87</td>\n",
       "    </tr>\n",
       "    <tr>\n",
       "      <th>2</th>\n",
       "      <td>workclass_Never-worked</td>\n",
       "      <td>88</td>\n",
       "    </tr>\n",
       "    <tr>\n",
       "      <th>67</th>\n",
       "      <td>native_country_Holand-Netherlands</td>\n",
       "      <td>89</td>\n",
       "    </tr>\n",
       "  </tbody>\n",
       "</table>\n",
       "</div>"
      ],
      "text/plain": [
       "                                  column_name  rank_survived_until\n",
       "90             native_country_Trinadad&Tobago                   80\n",
       "77                        native_country_Laos                   81\n",
       "80  native_country_Outlying-US(Guam-USVI-etc)                   82\n",
       "86                    native_country_Scotland                   83\n",
       "7                       workclass_Without-pay                   84\n",
       "89                    native_country_Thailand                   85\n",
       "30                    occupation_Armed-Forces                   86\n",
       "68                    native_country_Honduras                   87\n",
       "2                      workclass_Never-worked                   88\n",
       "67          native_country_Holand-Netherlands                   89"
      ]
     },
     "execution_count": 120,
     "metadata": {},
     "output_type": "execute_result"
    }
   ],
   "source": [
    "ranks.iloc[-10:]"
   ]
  },
  {
   "cell_type": "markdown",
   "metadata": {},
   "source": [
    "Let's retain these particularly bad ones:"
   ]
  },
  {
   "cell_type": "code",
   "execution_count": 121,
   "metadata": {},
   "outputs": [],
   "source": [
    "crummy_features = ranks.iloc[-10:].index"
   ]
  },
  {
   "cell_type": "markdown",
   "metadata": {},
   "source": [
    "### Problem\n",
    "\n",
    "Pick another methodology - and feel free to use Google, your instincts, or whatever you please - to devise a methodology to select features. Then, go ahead and try it out!"
   ]
  },
  {
   "cell_type": "markdown",
   "metadata": {},
   "source": [
    "I'm going to go with building a Random Forest on the entire data set, and looking at which features rank as the most _important_ (i.e. how good they are at sorting the data based on `over_fifty_k`). This is actually not so dissimilar to what we did above - simpler, a bit quicker, a different kind of thoroughness."
   ]
  },
  {
   "cell_type": "code",
   "execution_count": 122,
   "metadata": {},
   "outputs": [],
   "source": [
    "rf = RandomForestClassifier(n_estimators=10, class_weight=\"balanced\")"
   ]
  },
  {
   "cell_type": "markdown",
   "metadata": {},
   "source": [
    "Now, let's fit our model to our data:"
   ]
  },
  {
   "cell_type": "code",
   "execution_count": 123,
   "metadata": {},
   "outputs": [],
   "source": [
    "rf = rf.fit(X, y)"
   ]
  },
  {
   "cell_type": "code",
   "execution_count": 124,
   "metadata": {},
   "outputs": [],
   "source": [
    "importances = pd.DataFrame(list(zip(X.columns, rf.feature_importances_)), \n",
    "                           columns=[\"column_name\", \"importance\"])"
   ]
  },
  {
   "cell_type": "code",
   "execution_count": 125,
   "metadata": {},
   "outputs": [
    {
     "data": {
      "text/html": [
       "<div>\n",
       "<style scoped>\n",
       "    .dataframe tbody tr th:only-of-type {\n",
       "        vertical-align: middle;\n",
       "    }\n",
       "\n",
       "    .dataframe tbody tr th {\n",
       "        vertical-align: top;\n",
       "    }\n",
       "\n",
       "    .dataframe thead th {\n",
       "        text-align: right;\n",
       "    }\n",
       "</style>\n",
       "<table border=\"1\" class=\"dataframe\">\n",
       "  <thead>\n",
       "    <tr style=\"text-align: right;\">\n",
       "      <th></th>\n",
       "      <th>column_name</th>\n",
       "      <th>importance</th>\n",
       "    </tr>\n",
       "  </thead>\n",
       "  <tbody>\n",
       "    <tr>\n",
       "      <th>94</th>\n",
       "      <td>age</td>\n",
       "      <td>0.256010</td>\n",
       "    </tr>\n",
       "    <tr>\n",
       "      <th>96</th>\n",
       "      <td>capital_gain_net</td>\n",
       "      <td>0.086196</td>\n",
       "    </tr>\n",
       "    <tr>\n",
       "      <th>16</th>\n",
       "      <td>education_Bachelors</td>\n",
       "      <td>0.020908</td>\n",
       "    </tr>\n",
       "    <tr>\n",
       "      <th>95</th>\n",
       "      <td>hours_per_week</td>\n",
       "      <td>0.109630</td>\n",
       "    </tr>\n",
       "    <tr>\n",
       "      <th>97</th>\n",
       "      <td>is_capital_gain_nonzero</td>\n",
       "      <td>0.019129</td>\n",
       "    </tr>\n",
       "    <tr>\n",
       "      <th>24</th>\n",
       "      <td>marital_status_Married-civ-spouse</td>\n",
       "      <td>0.061139</td>\n",
       "    </tr>\n",
       "    <tr>\n",
       "      <th>26</th>\n",
       "      <td>marital_status_Never-married</td>\n",
       "      <td>0.061121</td>\n",
       "    </tr>\n",
       "    <tr>\n",
       "      <th>43</th>\n",
       "      <td>relationship_Not-in-family</td>\n",
       "      <td>0.031130</td>\n",
       "    </tr>\n",
       "    <tr>\n",
       "      <th>45</th>\n",
       "      <td>relationship_Own-child</td>\n",
       "      <td>0.036966</td>\n",
       "    </tr>\n",
       "    <tr>\n",
       "      <th>46</th>\n",
       "      <td>relationship_Unmarried</td>\n",
       "      <td>0.023280</td>\n",
       "    </tr>\n",
       "  </tbody>\n",
       "</table>\n",
       "</div>"
      ],
      "text/plain": [
       "                          column_name  importance\n",
       "94                                age    0.256010\n",
       "96                   capital_gain_net    0.086196\n",
       "16                education_Bachelors    0.020908\n",
       "95                     hours_per_week    0.109630\n",
       "97            is_capital_gain_nonzero    0.019129\n",
       "24  marital_status_Married-civ-spouse    0.061139\n",
       "26       marital_status_Never-married    0.061121\n",
       "43         relationship_Not-in-family    0.031130\n",
       "45             relationship_Own-child    0.036966\n",
       "46             relationship_Unmarried    0.023280"
      ]
     },
     "execution_count": 125,
     "metadata": {},
     "output_type": "execute_result"
    }
   ],
   "source": [
    "importances.sort_values(\"importance\", ascending=False\n",
    "                       ).iloc[:10\n",
    "                       ].sort_values(\"column_name\")"
   ]
  },
  {
   "cell_type": "markdown",
   "metadata": {},
   "source": [
    "Aaaannnd we see a very similar set of features :)\n",
    "\n",
    "We other method, we are are attempting to find the best possible features by recursively re-train the model with an ever-better set of features. With this method, we are training the model once and looking for the strongest features (and can very granularly quantify what _strongest_ means).\n",
    "\n",
    "One reason for these two results being _exactly_ the same, i.e. more than just very similar, could be the fact that we have asked `RFE` for the 10 best features and, based on the default behavior of the `RandomForestClassifier`, the forest is likely considering about 10 features every time it gets to make a split. \n",
    "\n",
    "However, \"weeds\" stuff aside, the fact that these two methods have returned the same features mean that these 10 are likely our top features - or at the least, they're very useful."
   ]
  },
  {
   "cell_type": "code",
   "execution_count": 126,
   "metadata": {},
   "outputs": [
    {
     "data": {
      "text/plain": [
       "(29304, 98)"
      ]
     },
     "execution_count": 126,
     "metadata": {},
     "output_type": "execute_result"
    }
   ],
   "source": [
    "X.shape"
   ]
  },
  {
   "cell_type": "markdown",
   "metadata": {},
   "source": [
    "# 3. Machine Learning\n",
    "\n",
    "Let's build a model, and let's evaluate it (at least somewhat) properly."
   ]
  },
  {
   "cell_type": "markdown",
   "metadata": {},
   "source": [
    "### Class imblanace\n",
    "\n",
    "One thing I cannot stress enough is the need to keep in mind the balance of your classes in the data you have. For example, let's say I start with the following model."
   ]
  },
  {
   "cell_type": "code",
   "execution_count": 127,
   "metadata": {},
   "outputs": [],
   "source": [
    "def crummy_model(X):\n",
    "    return np.zeros((len(X),))"
   ]
  },
  {
   "cell_type": "code",
   "execution_count": 128,
   "metadata": {},
   "outputs": [],
   "source": [
    "y_pred = crummy_model(X)"
   ]
  },
  {
   "cell_type": "code",
   "execution_count": 130,
   "metadata": {},
   "outputs": [
    {
     "data": {
      "text/plain": [
       "0.7591796341796342"
      ]
     },
     "execution_count": 130,
     "metadata": {},
     "output_type": "execute_result"
    }
   ],
   "source": [
    "accuracy_score(y, y_pred)"
   ]
  },
  {
   "cell_type": "markdown",
   "metadata": {},
   "source": [
    "What?! All we did we literally return 0 for every value! And now you've seen the danger of class imblanace - when you more of one class than the other, if you always pick the _majority_ class, you'll have a model that looks decent (or at least, better than it is not).\n",
    "\n",
    "This is what the `class_imblanace` argument is for - it tells the forest to build each tree based off a _class-balanced_ subset of the data."
   ]
  },
  {
   "cell_type": "markdown",
   "metadata": {},
   "source": [
    "### Scores\n",
    "\n",
    "So, how do protect ourselves, aside from setting the right model parameters, against falling into that sort of trap?\n",
    "\n",
    "The above example showed that _accuracy_, though a nice thumb-in-the-air sort of metric, and also a metric that lots of managers will enjoy discussing, can be pretty dangerous to use. There are better scores, for sure, but one thing you can always do with your prediction results is _look_ at them, rather than just roll them up into a score."
   ]
  },
  {
   "cell_type": "code",
   "execution_count": 131,
   "metadata": {},
   "outputs": [],
   "source": [
    "def get_confusion(y, y_true):\n",
    "    matrix = confusion_matrix(y, y_true)\n",
    "    \n",
    "    df = pd.DataFrame(matrix,\n",
    "                     index=[\"negative_actual\", \"positive_actual\"],\n",
    "                     columns=[\"negative_predicted\", \"positive_predicted\"])\n",
    "    \n",
    "    return df"
   ]
  },
  {
   "cell_type": "code",
   "execution_count": 132,
   "metadata": {
    "scrolled": true
   },
   "outputs": [
    {
     "data": {
      "text/html": [
       "<div>\n",
       "<style scoped>\n",
       "    .dataframe tbody tr th:only-of-type {\n",
       "        vertical-align: middle;\n",
       "    }\n",
       "\n",
       "    .dataframe tbody tr th {\n",
       "        vertical-align: top;\n",
       "    }\n",
       "\n",
       "    .dataframe thead th {\n",
       "        text-align: right;\n",
       "    }\n",
       "</style>\n",
       "<table border=\"1\" class=\"dataframe\">\n",
       "  <thead>\n",
       "    <tr style=\"text-align: right;\">\n",
       "      <th></th>\n",
       "      <th>negative_predicted</th>\n",
       "      <th>positive_predicted</th>\n",
       "    </tr>\n",
       "  </thead>\n",
       "  <tbody>\n",
       "    <tr>\n",
       "      <th>negative_actual</th>\n",
       "      <td>22247</td>\n",
       "      <td>0</td>\n",
       "    </tr>\n",
       "    <tr>\n",
       "      <th>positive_actual</th>\n",
       "      <td>7057</td>\n",
       "      <td>0</td>\n",
       "    </tr>\n",
       "  </tbody>\n",
       "</table>\n",
       "</div>"
      ],
      "text/plain": [
       "                 negative_predicted  positive_predicted\n",
       "negative_actual               22247                   0\n",
       "positive_actual                7057                   0"
      ]
     },
     "execution_count": 132,
     "metadata": {},
     "output_type": "execute_result"
    }
   ],
   "source": [
    "get_confusion(y, y_pred)"
   ]
  },
  {
   "cell_type": "markdown",
   "metadata": {},
   "source": [
    "Enter the _confusion matrix_, whose rows represent the _actual class value_ and whose columns represent the _predicted class value_. Looking at the above, we can see clearly that _all_ our model did was predict `negative`.\n",
    "\n",
    "A little bit more on the confusion matrix: the diagonal (i.e. positions `(0,0)` and `(1, 1)`) hold the correct predictions. Points falsely predicted as positive are known as _false positives (FP)_, and points correctly predicted as positive are known as _true positives (TP)_ - the same nomenclature holds on the negative side.\n",
    "\n",
    "We can get _accuracy_ score from the above through taking the following ratio:\n",
    "- $ \\large \\frac {TP + TN}{TP + TN + FP + FN}$\n",
    "\n",
    "But we can get some more nuanced measures here, too. If the above is our overall accuracy, what if we broke that down into two, let's say this colloquially, components? For instance:\n",
    "1. a model's carefulness\n",
    "2. a model's thoroughness\n",
    "\n",
    "How might we calculate these scores? \n",
    "\n",
    "Maybe for carefulness, we could do:\n",
    "1. $\\large \\frac{TP}{TP + FP}$\n",
    "The above is the ratio of correct, positive predictions to the number of _total_positive predictions_ - i.e. of all the times the model predicted _positive_, what proportion of those predictions were correct?\n",
    "\n",
    "Maybe for thoroughness, we could do:\n",
    "2. $\\large \\frac{TP}{TP + FN}$\n",
    "The above is the ratio of correct, positive predictions to the number of _total actual positive values_ - i.e. out of all the actual positive values in the data, what proportion did the model correctly identify?\n",
    "\n",
    "It turns out that 1 and 2 are in fact real, well-known scores, referred to formally as **precision** and **recall**, respectively. Which you might use depends on what you trying to solve for, and what the consequences of different types of mistakes are.\n",
    "\n",
    "It's almost like different styles of poker players - some bet carefully, preserving their bankroll, while some bet aggressively, not wanting to miss an opptortunity to make money. Or, for another example, it could be like talking to people at a cocktail party - do you want to speak only to people who you think have a good chance of responding to you, or do you want to speak to as many people as possible?\n",
    "\n",
    "Often times, it's somewhere in the middle, and there a whole bunch of other scores one could look to for help in evaluating a predictive model, especially as one goes behind the _class labels_ and into the _class probabilities_. For now, these 3 scores + the confusion matrix, should provide a great starting point."
   ]
  },
  {
   "cell_type": "markdown",
   "metadata": {},
   "source": [
    "### Cross-validation\n",
    "\n",
    "So how do we actually evaulate our models? We generally pick some kind of scoring metric, and then run several trials using different samplings of the data, and use the highest aggregate (usually through taking the _mean_) score across these trials as an indiciation of us having found the best model (it can help to think of _deviation_ throughout the trials, too).\n",
    "\n",
    "The key to this process is _cross-validation_. In cross-validation, we break the data into chunks - for the sake of example, let's say 5. We take 4 of those chunks and use them to train a model, and test that model on the _other_ chunk, and retain that score value. Then, you repeat that process, taking your previous test chunk back into the train set, and taking a different train chunk out for the test set. You do this until you've tested on all 5 chunks and then typically report the average (and maybe standard deviation) across these trials.\n",
    "\n",
    "This achieves two main things:\n",
    "- you get to evaluate your model's performance on different chunks of the data\n",
    "- you avoid evaluating the model's results on the data you've trained it on\n",
    "\n",
    "Let's try this out."
   ]
  },
  {
   "cell_type": "markdown",
   "metadata": {},
   "source": [
    "Build a model:"
   ]
  },
  {
   "cell_type": "code",
   "execution_count": 133,
   "metadata": {},
   "outputs": [],
   "source": [
    "rf = RandomForestClassifier(n_estimators=10, class_weight=\"balanced\")"
   ]
  },
  {
   "cell_type": "markdown",
   "metadata": {},
   "source": [
    "Accuracy:"
   ]
  },
  {
   "cell_type": "code",
   "execution_count": 134,
   "metadata": {},
   "outputs": [],
   "source": [
    "accs = cross_val_score(rf, X, y, \n",
    "                       scoring=make_scorer(accuracy_score), cv=5)"
   ]
  },
  {
   "cell_type": "code",
   "execution_count": 135,
   "metadata": {},
   "outputs": [
    {
     "data": {
      "text/plain": [
       "(0.8391006808471989, 0.002863262842660567)"
      ]
     },
     "execution_count": 135,
     "metadata": {},
     "output_type": "execute_result"
    }
   ],
   "source": [
    "np.mean(accs), np.std(accs)"
   ]
  },
  {
   "cell_type": "markdown",
   "metadata": {},
   "source": [
    "Precision:"
   ]
  },
  {
   "cell_type": "code",
   "execution_count": 136,
   "metadata": {},
   "outputs": [],
   "source": [
    "precs = cross_val_score(rf, X, y, \n",
    "                        scoring=make_scorer(precision_score), cv=5)"
   ]
  },
  {
   "cell_type": "code",
   "execution_count": 137,
   "metadata": {},
   "outputs": [
    {
     "data": {
      "text/plain": [
       "(0.6882051823466857, 0.008918218266457402)"
      ]
     },
     "execution_count": 137,
     "metadata": {},
     "output_type": "execute_result"
    }
   ],
   "source": [
    "np.mean(precs), np.std(precs)"
   ]
  },
  {
   "cell_type": "markdown",
   "metadata": {},
   "source": [
    "Recall:"
   ]
  },
  {
   "cell_type": "code",
   "execution_count": 138,
   "metadata": {},
   "outputs": [],
   "source": [
    "recs = cross_val_score(rf, X, y, \n",
    "                       scoring=make_scorer(recall_score), cv=5)"
   ]
  },
  {
   "cell_type": "code",
   "execution_count": 139,
   "metadata": {},
   "outputs": [
    {
     "data": {
      "text/plain": [
       "(0.6086132230973552, 0.015201257513117307)"
      ]
     },
     "execution_count": 139,
     "metadata": {},
     "output_type": "execute_result"
    }
   ],
   "source": [
    "np.mean(recs), np.std(recs)"
   ]
  },
  {
   "cell_type": "markdown",
   "metadata": {},
   "source": [
    "### Hyper-parameter tuning\n",
    "\n",
    "An obvious goal when selecting the model is to avoid _underfitting_ - i.e. we want our model to fit the data well. But, as mentioned before, we also want to avoid _overfitting_, or coupling our selves to tightly to the data we train on.\n",
    "\n",
    "We evaluate this by comparing our _train scores_ to the _test scores_. If there's a large disparity - let's say, greater than 5% - than we are likely overfitting. How do we handle that? Most models have some _hyper-parameters_ - parameters you pass the model creation process, as opposed to the data that you pass to the model fitting proces - that will limit a model's growth. \n",
    "\n",
    "With _logistic regression_, you can control regularization - forcing a model's coefficients to stay near 0, or even allowing some coefficients to drop out. With a _random forest_, you can control the depth of a tree, and how small the final leaf nodes can get."
   ]
  },
  {
   "cell_type": "code",
   "execution_count": 140,
   "metadata": {},
   "outputs": [],
   "source": [
    "results = cross_validate(rf, X, y, \n",
    "                         scoring=make_scorer(recall_score), \n",
    "                         cv=5, return_train_score=True)"
   ]
  },
  {
   "cell_type": "code",
   "execution_count": 141,
   "metadata": {},
   "outputs": [],
   "source": [
    "results_train = pd.Series(results[\"train_score\"], name=\"train\")"
   ]
  },
  {
   "cell_type": "code",
   "execution_count": 142,
   "metadata": {},
   "outputs": [],
   "source": [
    "results_test= pd.Series(results[\"test_score\"], name=\"test\")"
   ]
  },
  {
   "cell_type": "code",
   "execution_count": 143,
   "metadata": {},
   "outputs": [
    {
     "data": {
      "text/html": [
       "<div>\n",
       "<style scoped>\n",
       "    .dataframe tbody tr th:only-of-type {\n",
       "        vertical-align: middle;\n",
       "    }\n",
       "\n",
       "    .dataframe tbody tr th {\n",
       "        vertical-align: top;\n",
       "    }\n",
       "\n",
       "    .dataframe thead th {\n",
       "        text-align: right;\n",
       "    }\n",
       "</style>\n",
       "<table border=\"1\" class=\"dataframe\">\n",
       "  <thead>\n",
       "    <tr style=\"text-align: right;\">\n",
       "      <th></th>\n",
       "      <th>train</th>\n",
       "      <th>test</th>\n",
       "    </tr>\n",
       "  </thead>\n",
       "  <tbody>\n",
       "    <tr>\n",
       "      <th>0</th>\n",
       "      <td>0.937467</td>\n",
       "      <td>0.584986</td>\n",
       "    </tr>\n",
       "    <tr>\n",
       "      <th>1</th>\n",
       "      <td>0.934455</td>\n",
       "      <td>0.629603</td>\n",
       "    </tr>\n",
       "    <tr>\n",
       "      <th>2</th>\n",
       "      <td>0.939249</td>\n",
       "      <td>0.601701</td>\n",
       "    </tr>\n",
       "    <tr>\n",
       "      <th>3</th>\n",
       "      <td>0.939603</td>\n",
       "      <td>0.574770</td>\n",
       "    </tr>\n",
       "    <tr>\n",
       "      <th>4</th>\n",
       "      <td>0.938718</td>\n",
       "      <td>0.615875</td>\n",
       "    </tr>\n",
       "  </tbody>\n",
       "</table>\n",
       "</div>"
      ],
      "text/plain": [
       "      train      test\n",
       "0  0.937467  0.584986\n",
       "1  0.934455  0.629603\n",
       "2  0.939249  0.601701\n",
       "3  0.939603  0.574770\n",
       "4  0.938718  0.615875"
      ]
     },
     "execution_count": 143,
     "metadata": {},
     "output_type": "execute_result"
    }
   ],
   "source": [
    "results_train.to_frame().join(results_test)"
   ]
  },
  {
   "cell_type": "markdown",
   "metadata": {},
   "source": [
    "We can see quite a disparity here! I wonder what will happen if we limit tree depth?"
   ]
  },
  {
   "cell_type": "code",
   "execution_count": 144,
   "metadata": {},
   "outputs": [],
   "source": [
    "rf_depth = RandomForestClassifier(n_estimators=10, \n",
    "                                  class_weight=\"balanced\", \n",
    "                                  max_depth=16)"
   ]
  },
  {
   "cell_type": "code",
   "execution_count": 145,
   "metadata": {},
   "outputs": [],
   "source": [
    "results = cross_validate(rf_depth, X, y, scoring=make_scorer(recall_score), cv=5, return_train_score=True)"
   ]
  },
  {
   "cell_type": "code",
   "execution_count": 146,
   "metadata": {},
   "outputs": [],
   "source": [
    "results_train = pd.Series(results[\"train_score\"], name=\"train\")"
   ]
  },
  {
   "cell_type": "code",
   "execution_count": 147,
   "metadata": {},
   "outputs": [],
   "source": [
    "results_test= pd.Series(results[\"test_score\"], name=\"test\")"
   ]
  },
  {
   "cell_type": "code",
   "execution_count": 148,
   "metadata": {},
   "outputs": [
    {
     "data": {
      "text/html": [
       "<div>\n",
       "<style scoped>\n",
       "    .dataframe tbody tr th:only-of-type {\n",
       "        vertical-align: middle;\n",
       "    }\n",
       "\n",
       "    .dataframe tbody tr th {\n",
       "        vertical-align: top;\n",
       "    }\n",
       "\n",
       "    .dataframe thead th {\n",
       "        text-align: right;\n",
       "    }\n",
       "</style>\n",
       "<table border=\"1\" class=\"dataframe\">\n",
       "  <thead>\n",
       "    <tr style=\"text-align: right;\">\n",
       "      <th></th>\n",
       "      <th>train</th>\n",
       "      <th>test</th>\n",
       "    </tr>\n",
       "  </thead>\n",
       "  <tbody>\n",
       "    <tr>\n",
       "      <th>0</th>\n",
       "      <td>0.912489</td>\n",
       "      <td>0.832861</td>\n",
       "    </tr>\n",
       "    <tr>\n",
       "      <th>1</th>\n",
       "      <td>0.921169</td>\n",
       "      <td>0.864731</td>\n",
       "    </tr>\n",
       "    <tr>\n",
       "      <th>2</th>\n",
       "      <td>0.912504</td>\n",
       "      <td>0.839830</td>\n",
       "    </tr>\n",
       "    <tr>\n",
       "      <th>3</th>\n",
       "      <td>0.914098</td>\n",
       "      <td>0.827073</td>\n",
       "    </tr>\n",
       "    <tr>\n",
       "      <th>4</th>\n",
       "      <td>0.920298</td>\n",
       "      <td>0.863926</td>\n",
       "    </tr>\n",
       "  </tbody>\n",
       "</table>\n",
       "</div>"
      ],
      "text/plain": [
       "      train      test\n",
       "0  0.912489  0.832861\n",
       "1  0.921169  0.864731\n",
       "2  0.912504  0.839830\n",
       "3  0.914098  0.827073\n",
       "4  0.920298  0.863926"
      ]
     },
     "execution_count": 148,
     "metadata": {},
     "output_type": "execute_result"
    }
   ],
   "source": [
    "results_train.to_frame().join(results_test)"
   ]
  },
  {
   "cell_type": "markdown",
   "metadata": {},
   "source": [
    "Wow - a big difference! By the way, if we wanted to evaluate based on limiting the size of the leaves in the trees, you could tweak the `min_samples_leaf` hyper-parameter.\n",
    "\n",
    "A good tecnhique is to evaluate a model's performance over different hyper-parameter values. `sklearn` has implemented something called `GridSearchCV`, which will perform an exhaustive search over the different parameter values you pass. This is a great tool, and makes setting up automated build pipelines much easier.\n",
    "\n",
    "However, in analysis stage, I like to _look_ at results. I've wrapped some of the `sklearn` functionality with `matplotlib` code to allow for visualizing your CV over different hyper-parameter values."
   ]
  },
  {
   "cell_type": "code",
   "execution_count": 149,
   "metadata": {},
   "outputs": [
    {
     "data": {
      "image/png": "[encoded data removed]",
      "text/plain": [
       "<Figure size 792x576 with 1 Axes>"
      ]
     },
     "metadata": {
      "needs_background": "light"
     },
     "output_type": "display_data"
    }
   ],
   "source": [
    "curves.validation_curve(X, y,\n",
    "                        score=recall_score,\n",
    "                        model_type=RandomForestClassifier,\n",
    "                        param_name=\"max_depth\",\n",
    "                        param_range=[2*n for n in range(1, 11)],\n",
    "                        other_params={\"n_estimators\": 10, \n",
    "                                      \"class_weight\": \"balanced\"})"
   ]
  },
  {
   "cell_type": "markdown",
   "metadata": {},
   "source": [
    "Here we can see the overfitting quite clearly - look how the train and test scores separate as tree depth increases!"
   ]
  },
  {
   "cell_type": "markdown",
   "metadata": {},
   "source": [
    "### Why I like Random Forests\n",
    "\n",
    "There are many models to choose from, with each providing their own strengths and weaknesses.\n",
    "\n",
    "Simpler models lead to reduced odds of overfitting, quicker build times, and easier debugging when problems occur. For example, _logistic regression_, which basically entials wrapping a linear regression model with the _logit_ function, which squashes output to between 0 and 1, is considered a very simple model (bonus: it naturally produces great probabilities).\n",
    "\n",
    "Complex models bring the burdens of potential overfitting, more hyperparameters to tune, longer train times, etc. But they can sometimes deliver much stronger results (see: the world of neural networks).\n",
    "\n",
    "Often times it comes down to what's known as the _bias-variance trade-off_: would you rather have your model be wrong, but conistent? Or sometimes very right, and sometimes very wrong? Generally, it's somewhere in between.\n",
    "\n",
    "Now, data preparation plays a part, too. With any model that involves taking a linear combination of feautes (e.g. logistic regression, or the internals of a multi-layer perceptron), pre-treating your continuous data so that its values are _normalized_ (between 0 and 1) is very important. So is reducing skewness. Additionally, you must worry about outliers. And of course, missing data...\n",
    "\n",
    "With a random forest, you do not need to worry about feature scaling or skewness. You also don't need to worry about outliers (since the tree works through _splitting_, and not multiplying and adding). Ditto for missing data, as long as you encode it correctly.\n",
    "\n",
    "So, RF models take some of the fun out creative data prep, but they also make it very straightforward to get going."
   ]
  },
  {
   "cell_type": "markdown",
   "metadata": {},
   "source": [
    "### Problem\n",
    "\n",
    "Your turn - find the \"best\" model you can. This means you need to:\n",
    "- pick a score function to use\n",
    "- pick a subset of the feature space to use\n",
    "- pick the model hyper-parameters to use\n",
    "\n",
    "Try out different combinations of features to see if you get anything that's noticeably better. For those of you who have done this before, please feel free to try additional models."
   ]
  },
  {
   "cell_type": "code",
   "execution_count": null,
   "metadata": {},
   "outputs": [],
   "source": []
  },
  {
   "cell_type": "markdown",
   "metadata": {},
   "source": [
    "### Final performance estimation\n",
    "\n",
    "Once we've done _everything_ we'd like to do for our model evaulation, we can use our selected model to predict the _hold-out_ set that we saved earlier."
   ]
  },
  {
   "cell_type": "code",
   "execution_count": 217,
   "metadata": {},
   "outputs": [],
   "source": [
    "table_test = table.loc[test_inds, [c for c in table.columns if c != \"over_fifty_k\"]]"
   ]
  },
  {
   "cell_type": "code",
   "execution_count": 218,
   "metadata": {},
   "outputs": [],
   "source": [
    "fifty_k_test = table.loc[test_inds, \"over_fifty_k\"]"
   ]
  },
  {
   "cell_type": "code",
   "execution_count": 219,
   "metadata": {},
   "outputs": [],
   "source": [
    "table_test = table_test.drop([\"capital_gain\", \"capital_loss\", \"age_log\",\n",
    "                               \"is_capital_loss_nonzero\", \"fnlwgt\"], axis=1)"
   ]
  },
  {
   "cell_type": "code",
   "execution_count": 220,
   "metadata": {},
   "outputs": [],
   "source": [
    "_one_hots = [pd.get_dummies(table_test[col], drop_first=True, prefix=col)\n",
    "             for col in table_test.select_dtypes(include=object).columns]"
   ]
  },
  {
   "cell_type": "code",
   "execution_count": 221,
   "metadata": {},
   "outputs": [],
   "source": [
    "one_hot_df_test = _one_hots[0].join(_one_hots[1:])"
   ]
  },
  {
   "cell_type": "code",
   "execution_count": 222,
   "metadata": {},
   "outputs": [
    {
     "data": {
      "text/plain": [
       "(3257, 89)"
      ]
     },
     "execution_count": 222,
     "metadata": {},
     "output_type": "execute_result"
    }
   ],
   "source": [
    "one_hot_df_test.shape"
   ]
  },
  {
   "cell_type": "code",
   "execution_count": 223,
   "metadata": {},
   "outputs": [],
   "source": [
    "X_test = one_hot_df_test.join(table_test.select_dtypes(include=[int, float]))"
   ]
  },
  {
   "cell_type": "code",
   "execution_count": 225,
   "metadata": {},
   "outputs": [
    {
     "data": {
      "text/plain": [
       "(3257, 92)"
      ]
     },
     "execution_count": 225,
     "metadata": {},
     "output_type": "execute_result"
    }
   ],
   "source": [
    "X_test.shape"
   ]
  },
  {
   "cell_type": "code",
   "execution_count": 227,
   "metadata": {},
   "outputs": [
    {
     "data": {
      "text/plain": [
       "object    8\n",
       "int64     3\n",
       "bool      1\n",
       "dtype: int64"
      ]
     },
     "execution_count": 227,
     "metadata": {},
     "output_type": "execute_result"
    }
   ],
   "source": [
    "table_test.dtypes.value_counts()"
   ]
  },
  {
   "cell_type": "code",
   "execution_count": 229,
   "metadata": {},
   "outputs": [],
   "source": [
    "y_test = fifty_k_test"
   ]
  },
  {
   "cell_type": "code",
   "execution_count": null,
   "metadata": {},
   "outputs": [],
   "source": []
  },
  {
   "cell_type": "code",
   "execution_count": null,
   "metadata": {},
   "outputs": [],
   "source": []
  }
 ],
 "metadata": {
  "kernelspec": {
   "display_name": "Python 3",
   "language": "python",
   "name": "python3"
  },
  "language_info": {
   "codemirror_mode": {
    "name": "ipython",
    "version": 3
   },
   "file_extension": ".py",
   "mimetype": "text/x-python",
   "name": "python",
   "nbconvert_exporter": "python",
   "pygments_lexer": "ipython3",
   "version": "3.6.7"
  }
 },
 "nbformat": 4,
 "nbformat_minor": 2
}
